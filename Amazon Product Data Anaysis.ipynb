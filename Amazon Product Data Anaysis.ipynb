{
 "cells": [
  {
   "cell_type": "code",
   "execution_count": 2,
   "id": "70726e5e-374b-4970-b4c9-8457d01263c2",
   "metadata": {},
   "outputs": [],
   "source": [
    "import numpy as np\n",
    "import pandas as pd"
   ]
  },
  {
   "cell_type": "markdown",
   "id": "3ac0da1e-9d7f-4a2f-9bb3-c1073b198077",
   "metadata": {},
   "source": [
    "# Loading the data"
   ]
  },
  {
   "cell_type": "code",
   "execution_count": 16,
   "id": "141b9b01-88c4-4664-b4e6-4cae89f8cbb1",
   "metadata": {},
   "outputs": [],
   "source": [
    "df = pd.read_csv(\"C:\\\\Users\\\\vineet.soni\\\\Downloads\\\\DE Assignment (2)\\\\DE Assignment (2)\\\\DE Assignment\\\\data_enginner_assignment.csv\")"
   ]
  },
  {
   "cell_type": "code",
   "execution_count": 4,
   "id": "eabfd9c3-7308-4ff9-a720-0a49f39e383d",
   "metadata": {},
   "outputs": [
    {
     "data": {
      "text/html": [
       "<div>\n",
       "<style scoped>\n",
       "    .dataframe tbody tr th:only-of-type {\n",
       "        vertical-align: middle;\n",
       "    }\n",
       "\n",
       "    .dataframe tbody tr th {\n",
       "        vertical-align: top;\n",
       "    }\n",
       "\n",
       "    .dataframe thead th {\n",
       "        text-align: right;\n",
       "    }\n",
       "</style>\n",
       "<table border=\"1\" class=\"dataframe\">\n",
       "  <thead>\n",
       "    <tr style=\"text-align: right;\">\n",
       "      <th></th>\n",
       "      <th>uniq_id</th>\n",
       "      <th>product_name</th>\n",
       "      <th>manufacturer</th>\n",
       "      <th>price</th>\n",
       "      <th>number_available_in_stock</th>\n",
       "      <th>number_of_reviews</th>\n",
       "      <th>number_of_answered_questions</th>\n",
       "      <th>average_review_rating</th>\n",
       "      <th>amazon_category_and_sub_category</th>\n",
       "      <th>customers_who_bought_this_item_also_bought</th>\n",
       "      <th>description</th>\n",
       "      <th>product_information</th>\n",
       "      <th>product_description</th>\n",
       "      <th>items_customers_buy_after_viewing_this_item</th>\n",
       "      <th>customer_questions_and_answers</th>\n",
       "      <th>customer_reviews</th>\n",
       "      <th>sellers</th>\n",
       "    </tr>\n",
       "  </thead>\n",
       "  <tbody>\n",
       "    <tr>\n",
       "      <th>0</th>\n",
       "      <td>eac7efa5dbd3d667f26eb3d3ab504464</td>\n",
       "      <td>Hornby 2014 Catalogue</td>\n",
       "      <td>Hornby</td>\n",
       "      <td>£3.42</td>\n",
       "      <td>5 new</td>\n",
       "      <td>15</td>\n",
       "      <td>1.0</td>\n",
       "      <td>4.9 out of 5 stars</td>\n",
       "      <td>Hobbies &gt; Model Trains &amp; Railway Sets &gt; Rail V...</td>\n",
       "      <td>http://www.amazon.co.uk/Hornby-R8150-Catalogue...</td>\n",
       "      <td>Product Description Hornby 2014 Catalogue Box ...</td>\n",
       "      <td>Technical Details Item Weight640 g Product Dim...</td>\n",
       "      <td>Product Description Hornby 2014 Catalogue Box ...</td>\n",
       "      <td>http://www.amazon.co.uk/Hornby-R8150-Catalogue...</td>\n",
       "      <td>Does this catalogue detail all the previous Ho...</td>\n",
       "      <td>Worth Buying For The Pictures Alone (As Ever) ...</td>\n",
       "      <td>{\"seller\"=&gt;[{\"Seller_name_1\"=&gt;\"Amazon.co.uk\", ...</td>\n",
       "    </tr>\n",
       "    <tr>\n",
       "      <th>1</th>\n",
       "      <td>b17540ef7e86e461d37f3ae58b7b72ac</td>\n",
       "      <td>FunkyBuys® Large Christmas Holiday Express Fes...</td>\n",
       "      <td>FunkyBuys</td>\n",
       "      <td>£16.99</td>\n",
       "      <td>NaN</td>\n",
       "      <td>2</td>\n",
       "      <td>1.0</td>\n",
       "      <td>4.5 out of 5 stars</td>\n",
       "      <td>Hobbies &gt; Model Trains &amp; Railway Sets &gt; Rail V...</td>\n",
       "      <td>http://www.amazon.co.uk/Christmas-Holiday-Expr...</td>\n",
       "      <td>Size Name:Large FunkyBuys® Large Christmas Hol...</td>\n",
       "      <td>Technical Details Manufacturer recommended age...</td>\n",
       "      <td>Size Name:Large FunkyBuys® Large Christmas Hol...</td>\n",
       "      <td>http://www.amazon.co.uk/Christmas-Holiday-Expr...</td>\n",
       "      <td>can you turn off sounds // hi no you cant turn...</td>\n",
       "      <td>Four Stars // 4.0 // 18 Dec. 2015 // By\\n    \\...</td>\n",
       "      <td>{\"seller\"=&gt;{\"Seller_name_1\"=&gt;\"UHD WHOLESALE\", ...</td>\n",
       "    </tr>\n",
       "  </tbody>\n",
       "</table>\n",
       "</div>"
      ],
      "text/plain": [
       "                            uniq_id  \\\n",
       "0  eac7efa5dbd3d667f26eb3d3ab504464   \n",
       "1  b17540ef7e86e461d37f3ae58b7b72ac   \n",
       "\n",
       "                                        product_name manufacturer   price  \\\n",
       "0                              Hornby 2014 Catalogue       Hornby   £3.42   \n",
       "1  FunkyBuys® Large Christmas Holiday Express Fes...    FunkyBuys  £16.99   \n",
       "\n",
       "  number_available_in_stock number_of_reviews  number_of_answered_questions  \\\n",
       "0                     5 new                15                           1.0   \n",
       "1                       NaN                 2                           1.0   \n",
       "\n",
       "  average_review_rating                   amazon_category_and_sub_category  \\\n",
       "0    4.9 out of 5 stars  Hobbies > Model Trains & Railway Sets > Rail V...   \n",
       "1    4.5 out of 5 stars  Hobbies > Model Trains & Railway Sets > Rail V...   \n",
       "\n",
       "          customers_who_bought_this_item_also_bought  \\\n",
       "0  http://www.amazon.co.uk/Hornby-R8150-Catalogue...   \n",
       "1  http://www.amazon.co.uk/Christmas-Holiday-Expr...   \n",
       "\n",
       "                                         description  \\\n",
       "0  Product Description Hornby 2014 Catalogue Box ...   \n",
       "1  Size Name:Large FunkyBuys® Large Christmas Hol...   \n",
       "\n",
       "                                 product_information  \\\n",
       "0  Technical Details Item Weight640 g Product Dim...   \n",
       "1  Technical Details Manufacturer recommended age...   \n",
       "\n",
       "                                 product_description  \\\n",
       "0  Product Description Hornby 2014 Catalogue Box ...   \n",
       "1  Size Name:Large FunkyBuys® Large Christmas Hol...   \n",
       "\n",
       "         items_customers_buy_after_viewing_this_item  \\\n",
       "0  http://www.amazon.co.uk/Hornby-R8150-Catalogue...   \n",
       "1  http://www.amazon.co.uk/Christmas-Holiday-Expr...   \n",
       "\n",
       "                      customer_questions_and_answers  \\\n",
       "0  Does this catalogue detail all the previous Ho...   \n",
       "1  can you turn off sounds // hi no you cant turn...   \n",
       "\n",
       "                                    customer_reviews  \\\n",
       "0  Worth Buying For The Pictures Alone (As Ever) ...   \n",
       "1  Four Stars // 4.0 // 18 Dec. 2015 // By\\n    \\...   \n",
       "\n",
       "                                             sellers  \n",
       "0  {\"seller\"=>[{\"Seller_name_1\"=>\"Amazon.co.uk\", ...  \n",
       "1  {\"seller\"=>{\"Seller_name_1\"=>\"UHD WHOLESALE\", ...  "
      ]
     },
     "execution_count": 4,
     "metadata": {},
     "output_type": "execute_result"
    }
   ],
   "source": [
    "df.head(2)"
   ]
  },
  {
   "cell_type": "markdown",
   "id": "7b827ab4-b710-4ae5-9649-9c7404c3587c",
   "metadata": {},
   "source": [
    "# Rating Bins:\n",
    "Using the column \"average_review_rating,\" create five bins for ratings: 0-1, 1-2, 2-3, 3-4, 4-5.\n",
    "Save the results in amazon_rating_processed.csv with columns unique_id,  rating and rating_bin."
   ]
  },
  {
   "cell_type": "code",
   "execution_count": 66,
   "id": "316682fe-d230-4ac4-9529-4296a112b9e5",
   "metadata": {},
   "outputs": [
    {
     "name": "stdout",
     "output_type": "stream",
     "text": [
      "The amazon_rating.csv' file has been successfully created.\n"
     ]
    }
   ],
   "source": [
    "import pandas as pd\n",
    "\n",
    "df = pd.read_csv(\"C:\\\\Users\\\\vineet.soni\\\\Downloads\\\\DE Assignment (2)\\\\DE Assignment (2)\\\\DE Assignment\\\\data_enginner_assignment.csv\")\n",
    "\n",
    "df['average_review_rating'] = df['average_review_rating'].str.replace(' out of 5 stars', '', regex=False).astype(float)\n",
    "\n",
    "bins = [0, 1, 2, 3, 4, 5.1] \n",
    "labels = ['0-1', '1-2', '2-3', '3-4', '4-5']\n",
    "\n",
    "df['rating_bin'] = pd.cut(df['average_review_rating'], bins=bins, labels=labels, right=True)\n",
    "amazon_rating = df[['uniq_id', 'average_review_rating', 'rating_bin']]\n",
    "\n",
    "amazon_rating.to_csv('amazon_rating.csv',index=False)\n",
    "print(\"The amazon_rating.csv' file has been successfully created.\")"
   ]
  },
  {
   "cell_type": "code",
   "execution_count": 67,
   "id": "0ad57412-ab62-499b-99fe-40191d2d7847",
   "metadata": {},
   "outputs": [
    {
     "data": {
      "text/html": [
       "<div>\n",
       "<style scoped>\n",
       "    .dataframe tbody tr th:only-of-type {\n",
       "        vertical-align: middle;\n",
       "    }\n",
       "\n",
       "    .dataframe tbody tr th {\n",
       "        vertical-align: top;\n",
       "    }\n",
       "\n",
       "    .dataframe thead th {\n",
       "        text-align: right;\n",
       "    }\n",
       "</style>\n",
       "<table border=\"1\" class=\"dataframe\">\n",
       "  <thead>\n",
       "    <tr style=\"text-align: right;\">\n",
       "      <th></th>\n",
       "      <th>uniq_id</th>\n",
       "      <th>average_review_rating</th>\n",
       "      <th>rating_bin</th>\n",
       "    </tr>\n",
       "  </thead>\n",
       "  <tbody>\n",
       "    <tr>\n",
       "      <th>0</th>\n",
       "      <td>eac7efa5dbd3d667f26eb3d3ab504464</td>\n",
       "      <td>4.9</td>\n",
       "      <td>4-5</td>\n",
       "    </tr>\n",
       "    <tr>\n",
       "      <th>1</th>\n",
       "      <td>b17540ef7e86e461d37f3ae58b7b72ac</td>\n",
       "      <td>4.5</td>\n",
       "      <td>4-5</td>\n",
       "    </tr>\n",
       "    <tr>\n",
       "      <th>2</th>\n",
       "      <td>348f344247b0c1a935b1223072ef9d8a</td>\n",
       "      <td>3.9</td>\n",
       "      <td>3-4</td>\n",
       "    </tr>\n",
       "    <tr>\n",
       "      <th>3</th>\n",
       "      <td>e12b92dbb8eaee78b22965d2a9bbbd9f</td>\n",
       "      <td>5.0</td>\n",
       "      <td>4-5</td>\n",
       "    </tr>\n",
       "    <tr>\n",
       "      <th>4</th>\n",
       "      <td>e33a9adeed5f36840ccc227db4682a36</td>\n",
       "      <td>4.7</td>\n",
       "      <td>4-5</td>\n",
       "    </tr>\n",
       "  </tbody>\n",
       "</table>\n",
       "</div>"
      ],
      "text/plain": [
       "                            uniq_id  average_review_rating rating_bin\n",
       "0  eac7efa5dbd3d667f26eb3d3ab504464                    4.9        4-5\n",
       "1  b17540ef7e86e461d37f3ae58b7b72ac                    4.5        4-5\n",
       "2  348f344247b0c1a935b1223072ef9d8a                    3.9        3-4\n",
       "3  e12b92dbb8eaee78b22965d2a9bbbd9f                    5.0        4-5\n",
       "4  e33a9adeed5f36840ccc227db4682a36                    4.7        4-5"
      ]
     },
     "execution_count": 67,
     "metadata": {},
     "output_type": "execute_result"
    }
   ],
   "source": [
    "df = pd.read_csv(\"amazon_rating.csv\")\n",
    "df.head()"
   ]
  },
  {
   "cell_type": "markdown",
   "id": "c65c588b-b344-4cbe-ab33-00d21eda2353",
   "metadata": {},
   "source": [
    "# Visualisation"
   ]
  },
  {
   "cell_type": "code",
   "execution_count": 63,
   "id": "ffbd0b18-b634-4d02-b2fe-a08f3d4e4d81",
   "metadata": {},
   "outputs": [
    {
     "data": {
      "image/png": "[encoded data removed]",
      "text/plain": [
       "<Figure size 640x480 with 1 Axes>"
      ]
     },
     "metadata": {},
     "output_type": "display_data"
    }
   ],
   "source": [
    "import matplotlib.pyplot as plt\n",
    "\n",
    "amazon_rating['average_review_rating'].plot(kind='hist', bins=5, color='skyblue', edgecolor='black')\n",
    "\n",
    "plt.xlabel('Rating')\n",
    "plt.ylabel('Count')\n",
    "plt.title('Distribution of Ratings')\n",
    "plt.grid(True)\n",
    "\n",
    "plt.show()"
   ]
  },
  {
   "cell_type": "markdown",
   "id": "1389faf9-3a0e-43af-bfbd-c1e8aa9c3285",
   "metadata": {},
   "source": [
    "# Category and Subcategory:\n",
    "Using the column \"amazon_category_and_sub_category,\" extract the category and subcategory.\n",
    "The first part before \">\" is the category, and the last part after the last \">\" is the subcategory.\n",
    "Save the results in amazon_cat_subcat_processed.csv with columns unique_id, category, and subcategory."
   ]
  },
  {
   "cell_type": "code",
   "execution_count": 26,
   "id": "49d782e5-8559-4f11-8d42-1cc7a73c6d7a",
   "metadata": {},
   "outputs": [
    {
     "data": {
      "text/plain": [
       "0    Hobbies > Model Trains & Railway Sets > Rail V...\n",
       "1    Hobbies > Model Trains & Railway Sets > Rail V...\n",
       "2    Hobbies > Model Trains & Railway Sets > Rail V...\n",
       "3    Hobbies > Model Trains & Railway Sets > Rail V...\n",
       "4    Hobbies > Model Trains & Railway Sets > Rail V...\n",
       "Name: amazon_category_and_sub_category, dtype: object"
      ]
     },
     "execution_count": 26,
     "metadata": {},
     "output_type": "execute_result"
    }
   ],
   "source": [
    "df['amazon_category_and_sub_category'].head()"
   ]
  },
  {
   "cell_type": "code",
   "execution_count": 11,
   "id": "bc2d32ab-5c0b-4c1d-93ff-f8c8f8b19f1c",
   "metadata": {},
   "outputs": [
    {
     "name": "stdout",
     "output_type": "stream",
     "text": [
      "The 'amazon_cat_subcat_processed.csv' file has been successfully created.\n"
     ]
    }
   ],
   "source": [
    "import pandas as pd\n",
    "\n",
    "# Load the dataset\n",
    "df = pd.read_csv(\"C:\\\\Users\\\\vineet.soni\\\\Downloads\\\\DE Assignment (2)\\\\DE Assignment (2)\\\\DE Assignment\\\\data_enginner_assignment.csv\")\n",
    "\n",
    "# Drop rows with any missing values in the relevant column to ensure clean extraction\n",
    "df_cleaned = df.dropna(subset=['amazon_category_and_sub_category', 'uniq_id']).copy()\n",
    "\n",
    "# Extract the category, which is the part before the first '>'\n",
    "df_cleaned.loc[:, 'category'] = df_cleaned['amazon_category_and_sub_category'].str.split('>', n=1).str[0].str.strip()\n",
    "\n",
    "# Extract the subcategory, which is the part after the last '>'\n",
    "df_cleaned.loc[:, 'subcategory'] = df_cleaned['amazon_category_and_sub_category'].str.rsplit('>', n=1).str[-1].str.strip()\n",
    "\n",
    "# Create a new DataFrame with the required columns\n",
    "amazon_cat_subcat_processed = df_cleaned[['uniq_id', 'category', 'subcategory']]\n",
    "\n",
    "# Rename the 'uniq_id' column to 'unique_id' as requested\n",
    "amazon_cat_subcat_processed = amazon_cat_subcat_processed.rename(columns={'uniq_id': 'unique_id'})\n",
    "\n",
    "# Save the processed DataFrame to a new CSV file\n",
    "amazon_cat_subcat_processed.to_csv('amazon_cat_subcat_processed.csv', index=False)\n",
    "\n",
    "print(\"The 'amazon_cat_subcat_processed.csv' file has been successfully created.\")"
   ]
  },
  {
   "cell_type": "markdown",
   "id": "fd178973-9a35-4b97-b272-c1cb47933750",
   "metadata": {},
   "source": [
    "# Pie chart representation of category and sub-category"
   ]
  },
  {
   "cell_type": "code",
   "execution_count": 14,
   "id": "c1d9d1ff-7e3c-43e2-a230-fbb6a73b6713",
   "metadata": {},
   "outputs": [],
   "source": [
    "import numpy as np\n",
    "import pandas as pd"
   ]
  },
  {
   "cell_type": "code",
   "execution_count": 15,
   "id": "1b07583e-ec66-4c15-a5ce-57a3f61f216f",
   "metadata": {},
   "outputs": [
    {
     "data": {
      "text/plain": [
       "array(['Hobbies', 'Characters & Brands', 'Fancy Dress', 'Bags',\n",
       "       'Arts & Crafts', 'Handbags & Shoulder Bags', 'Games',\n",
       "       'Figures & Playsets', 'Home Accessories',\n",
       "       'Sweets, Chocolate & Gum', 'Sports Toys & Outdoor',\n",
       "       'Die-Cast & Toy Vehicles', 'Baby & Toddler Toys',\n",
       "       'Storage, Cleaning & Ring Sizers', 'Bedding & Linens',\n",
       "       'Office Supplies', 'Party Supplies', 'Camping & Hiking',\n",
       "       'Pretend Play', 'Women', 'Electronic Toys', 'Car Parts',\n",
       "       'Dolls & Accessories', 'Indoor Lighting', 'Educational Toys',\n",
       "       'Laundry, Storage & Organisation', \"Supporters' Gear\",\n",
       "       'Jams, Honey & Spreads', 'Novelty & Special Use',\n",
       "       'Musical Toy Instruments', 'Men', 'Sex & Sensuality',\n",
       "       'Cooking & Dining', 'Medication & Remedies',\n",
       "       'Puppets & Puppet Theatres', 'Jigsaws & Puzzles', 'Dogs',\n",
       "       'Medical Supplies & Equipment', 'Pens, Pencils & Writing Supplies',\n",
       "       'Worlds Apart', 'Gardening', 'Lab & Scientific Products',\n",
       "       'Novelty Jewellery'], dtype=object)"
      ]
     },
     "execution_count": 15,
     "metadata": {},
     "output_type": "execute_result"
    }
   ],
   "source": [
    "df = pd.read_csv(\"amazon_cat_subcat_processed.csv\")\n",
    "df['category'].unique()"
   ]
  },
  {
   "cell_type": "code",
   "execution_count": 16,
   "id": "9d836804-e5cb-4f56-b422-ab8789cd99a2",
   "metadata": {
    "scrolled": true
   },
   "outputs": [
    {
     "data": {
      "text/plain": [
       "array(['Trains', 'Lamps & Lighting', 'Locomotives', 'Signal & Sound',\n",
       "       'Recreational Activities', 'Transformers & Decoders',\n",
       "       'Wooden Thomas', 'Control Moduls', 'Landscaping',\n",
       "       'Motor Road & Rail', 'Hasbro', 'Toys', 'Costumes', 'Bags',\n",
       "       \"Children's Craft Kits\", 'Tomy', \"Kids'\", 'Dice & Dice Games',\n",
       "       'Board Games', 'Art Sand', 'Felt Kits', 'Farm & Animals', 'Barbie',\n",
       "       'Window Stickers', 'Glitter', 'Pirates',\n",
       "       'Science Fiction & Fantasy', 'Knights & Castles', 'Chocolate',\n",
       "       'Beach Toys', 'Vehicles', 'Boats', 'Pushchair Toys', 'Figures',\n",
       "       'Action Man', 'Collectible Figures & Accessories',\n",
       "       'Collectible Props & Memorabilia', 'Bobbleheads & Busts',\n",
       "       'Rockets & Spaceships', 'Accessories',\n",
       "       'Bead Art & Jewellery-Making', \"Children's Chalk\", 'Blackboards',\n",
       "       'Boxes & Organisers', 'Flat Sheets', 'Crayola', 'Paper & Stickers',\n",
       "       'Painting By Numbers', 'Early Learning Centre',\n",
       "       'Labels & Stickers', 'Model Building Tools', 'Christmas',\n",
       "       'Banners', 'Doll Making', 'Airbeds & Inflating Devices',\n",
       "       'Water Pistols', 'Paddling Pools', 'Water Play Tables',\n",
       "       'Flotation Devices & Accessories', 'Hand Pumps', 'Play Tools',\n",
       "       'Sets & Kits', 'Adults', 'Kids & Toddlers', 'Temporary Tattoos',\n",
       "       'Race Tracks', 'Robots', 'Tanks',\n",
       "       'Slot Cars, Race Tracks & Accessories', 'Slot Cars',\n",
       "       'Service & Tuning Parts', 'Helicopters & Quadcopters',\n",
       "       'Parts & Accessories', 'Kids Remote & App Controlled Toys',\n",
       "       'Nuts & Bolts', 'Packs & Sets', 'Model Building Kits',\n",
       "       'Boats & Watercraft', 'Spinning Tops', 'Party Favours',\n",
       "       'Fashion Dolls & Accessories', 'Friction Cars', 'Teaching Clocks',\n",
       "       'Book Lights', 'Cowboys & Indians', 'Poker Sets',\n",
       "       'BRIO Builder System', 'Transportation & Traffic',\n",
       "       'Barbie Dolls & Accessories', 'Mathematics',\n",
       "       'BRIO Wooden Railway System', 'Digital Cameras', 'Storage Boxes',\n",
       "       'Memorabilia & Collectibles', 'Sandwich Spreads, Pates & Pastes',\n",
       "       'Albums', 'Game Sets', 'Novelty', \"Children's Games\",\n",
       "       'Multipack Bars', 'Balloons', 'Props', 'Guitars & Strings',\n",
       "       'Streamers', 'Cake Decorations', 'Invitations', 'Party Tableware',\n",
       "       'T-Shirts', 'Buttons & Pins', 'Capes & Wings', 'Hats',\n",
       "       'Toy Cars & Trucks', 'Steam Engines', 'Landscape Architecture',\n",
       "       'Masks', 'Sunglasses', 'Emergency Services', 'Scaled Models',\n",
       "       'Cars & Vehicles', 'Coasters', 'Model Trains & Railway Sets',\n",
       "       'Alternative Medicine', 'Bikes, Trikes & Ride-ons',\n",
       "       'Finger Puppets', 'Specialty & Decorative Lighting',\n",
       "       'Activity Centres', 'Scooters', 'Hot & Cold Therapies',\n",
       "       'Hand Puppets', '3-D Puzzles', 'Sleeves', 'Sticker Collections',\n",
       "       'Ravensburger', 'Jigsaws', 'Cases', 'Brain Teasers',\n",
       "       'Frame Jigsaws', 'Games', 'Pianos & Keyboards', 'Garlands',\n",
       "       'Sewing', 'Confetti', 'Card Games', 'Single Cards',\n",
       "       'Poker Layouts', 'Trading Cards & Accessories', \"Marvin's Magic\",\n",
       "       'Chess', 'Poker Tables', 'Bingo Equipment', 'Craps Layouts',\n",
       "       'Blackjack Sets', 'Poker Chips', 'Roulette Sets', 'Stationery',\n",
       "       'Track Construction', 'Road Construction', 'Cable', 'Dinosaurs',\n",
       "       'VTech', 'Tape & Supplies', 'Ice Cube Moulds & Trays',\n",
       "       'Wind & Brass', 'Novelty Decorations', 'Desk Supplies Organisers',\n",
       "       'Colouring Pens & Markers', 'Colouring Pencils', 'Poster Paints',\n",
       "       'Permanent Markers & Marker Pens', 'Erasers', 'Coloured Pencils',\n",
       "       'Correction Pens', 'Pen Refills', 'Art Markers',\n",
       "       'Sorting, Stacking & Plugging Toys', 'Sound Toys',\n",
       "       'Rocking Horses', 'Rattles', 'Learning & Activity Toys',\n",
       "       'Rockers & Ride-ons', \"Dolls' House Accessories\",\n",
       "       'Toy Trains & Sets', 'Literacy & Spelling',\n",
       "       'Tabletop & Miniature Gaming', 'WWE', 'Sport',\n",
       "       'Kites & Flight Toys', 'Kites', 'Garden Tools',\n",
       "       'Darts & Accessories', 'Climbing Frames', 'Gardening Trowels',\n",
       "       'Cup & Ball Games', 'Greenhouses', 'Target Games', 'Racket Games',\n",
       "       \"Children's Puzzles\", 'Jigsaw Accessories', 'Aircraft',\n",
       "       'BRIO Wooden Roadway System', 'Wagons', 'Ages 3-4 Years',\n",
       "       'Take Along Thomas', 'Starter Packs & Sets', 'Microscopes',\n",
       "       'Toy Vehicle Playsets', 'Party Bags', 'Playsets', 'Houses',\n",
       "       'Soft Dolls', \"Children's Bikes\", 'Educational Games',\n",
       "       'Shops & Accessories', \"Dolls' House Furniture\", \"Dolls' Houses\",\n",
       "       'Military', 'Strategy Games', 'LeapPad Learning System', 'Hornby',\n",
       "       'LeapFrog', 'Dominoes & Tile Games', 'Push Power Ride-ons',\n",
       "       'Mystery Games', 'Straws', 'DVD Games', 'Trivia & Quiz Games',\n",
       "       'Educational Computers & Accessories', 'Tops & T-Shirts',\n",
       "       'Family Games', 'Fashion Dolls', 'Glass Markers & Charms',\n",
       "       \"Children's Knitting & Textile Design\", 'Bead Charms',\n",
       "       'Travel & Pocket Games', 'Drinking Games'], dtype=object)"
      ]
     },
     "execution_count": 16,
     "metadata": {},
     "output_type": "execute_result"
    }
   ],
   "source": [
    "df['subcategory'].unique()"
   ]
  },
  {
   "cell_type": "code",
   "execution_count": 17,
   "id": "da0aff6b-986a-4ccc-b9ef-68b5dd36e9d2",
   "metadata": {
    "scrolled": true
   },
   "outputs": [
    {
     "data": {
      "text/plain": [
       "category\n",
       "Hobbies                             1464\n",
       "Die-Cast & Toy Vehicles             1221\n",
       "Figures & Playsets                  1111\n",
       "Characters & Brands                  960\n",
       "Games                                941\n",
       "Arts & Crafts                        802\n",
       "Party Supplies                       694\n",
       "Fancy Dress                          585\n",
       "Sports Toys & Outdoor                372\n",
       "Dolls & Accessories                  371\n",
       "Jigsaws & Puzzles                    274\n",
       "Puppets & Puppet Theatres            269\n",
       "Baby & Toddler Toys                  106\n",
       "Pretend Play                          45\n",
       "Musical Toy Instruments               19\n",
       "Novelty & Special Use                 11\n",
       "Pens, Pencils & Writing Supplies       7\n",
       "Office Supplies                        6\n",
       "Home Accessories                       5\n",
       "Electronic Toys                        5\n",
       "Cooking & Dining                       4\n",
       "Bags                                   4\n",
       "Worlds Apart                           3\n",
       "Gardening                              3\n",
       "Women                                  3\n",
       "Educational Toys                       3\n",
       "Sweets, Chocolate & Gum                2\n",
       "Indoor Lighting                        2\n",
       "Dogs                                   2\n",
       "Supporters' Gear                       2\n",
       "Medication & Remedies                  2\n",
       "Handbags & Shoulder Bags               1\n",
       "Storage, Cleaning & Ring Sizers        1\n",
       "Bedding & Linens                       1\n",
       "Camping & Hiking                       1\n",
       "Laundry, Storage & Organisation        1\n",
       "Car Parts                              1\n",
       "Jams, Honey & Spreads                  1\n",
       "Men                                    1\n",
       "Sex & Sensuality                       1\n",
       "Medical Supplies & Equipment           1\n",
       "Lab & Scientific Products              1\n",
       "Novelty Jewellery                      1\n",
       "Name: count, dtype: int64"
      ]
     },
     "execution_count": 17,
     "metadata": {},
     "output_type": "execute_result"
    }
   ],
   "source": [
    "df['category'].value_counts()"
   ]
  },
  {
   "cell_type": "code",
   "execution_count": 18,
   "id": "351d960b-1edc-469f-a9a2-177a3158cbb5",
   "metadata": {},
   "outputs": [
    {
     "data": {
      "text/plain": [
       "subcategory\n",
       "Vehicles                                881\n",
       "Toys                                    623\n",
       "Science Fiction & Fantasy               485\n",
       "Bead Art & Jewellery-Making             368\n",
       "Packs & Sets                            317\n",
       "                                       ... \n",
       "Glass Markers & Charms                    1\n",
       "Children's Knitting & Textile Design      1\n",
       "Bead Charms                               1\n",
       "Travel & Pocket Games                     1\n",
       "Drinking Games                            1\n",
       "Name: count, Length: 235, dtype: int64"
      ]
     },
     "execution_count": 18,
     "metadata": {},
     "output_type": "execute_result"
    }
   ],
   "source": [
    "df['subcategory'].value_counts()"
   ]
  },
  {
   "cell_type": "code",
   "execution_count": 30,
   "id": "6ba829e0-b67a-4a45-9fc6-baca45f4c97c",
   "metadata": {},
   "outputs": [],
   "source": [
    "import pandas as pd\n",
    "import plotly.express as px"
   ]
  },
  {
   "cell_type": "code",
   "execution_count": 51,
   "id": "a828832b-ec7c-4c40-9d87-801f3e61bfed",
   "metadata": {},
   "outputs": [
    {
     "data": {
      "application/vnd.plotly.v1+json": {
       "config": {
        "plotlyServerURL": "https://plot.ly"
       },
       "data": [
        {
         "branchvalues": "total",
         "domain": {
          "x": [
           0,
           1
          ],
          "y": [
           0,
           1
          ]
         },
         "hovertemplate": "labels=%{label}<br>count=%{value}<br>parent=%{parent}<br>id=%{id}<extra></extra>",
         "ids": [
          "Hobbies/Trains",
          "Hobbies/Lamps & Lighting",
          "Hobbies/Locomotives",
          "Hobbies/Signal & Sound",
          "Hobbies/Recreational Activities",
          "Hobbies/Transformers & Decoders",
          "Characters & Brands/Wooden Thomas",
          "Hobbies/Control Moduls",
          "Hobbies/Landscaping",
          "Characters & Brands/Motor Road & Rail",
          "Characters & Brands/Hasbro",
          "Characters & Brands/Toys",
          "Fancy Dress/Costumes",
          "Bags/Bags",
          "Arts & Crafts/Children's Craft Kits",
          "Characters & Brands/Tomy",
          "Handbags & Shoulder Bags/Kids'",
          "Games/Dice & Dice Games",
          "Games/Board Games",
          "Arts & Crafts/Art Sand",
          "Arts & Crafts/Felt Kits",
          "Figures & Playsets/Farm & Animals",
          "Characters & Brands/Barbie",
          "Home Accessories/Window Stickers",
          "Arts & Crafts/Glitter",
          "Figures & Playsets/Pirates",
          "Figures & Playsets/Science Fiction & Fantasy",
          "Figures & Playsets/Knights & Castles",
          "Sweets, Chocolate & Gum/Chocolate",
          "Sports Toys & Outdoor/Beach Toys",
          "Die-Cast & Toy Vehicles/Vehicles",
          "Die-Cast & Toy Vehicles/Boats",
          "Die-Cast & Toy Vehicles/Trains",
          "Baby & Toddler Toys/Pushchair Toys",
          "Hobbies/Figures",
          "Characters & Brands/Action Man",
          "Hobbies/Collectible Figures & Accessories",
          "Hobbies/Collectible Props & Memorabilia",
          "Hobbies/Bobbleheads & Busts",
          "Die-Cast & Toy Vehicles/Rockets & Spaceships",
          "Fancy Dress/Accessories",
          "Arts & Crafts/Bead Art & Jewellery-Making",
          "Arts & Crafts/Children's Chalk",
          "Arts & Crafts/Blackboards",
          "Storage, Cleaning & Ring Sizers/Boxes & Organisers",
          "Bedding & Linens/Flat Sheets",
          "Characters & Brands/Crayola",
          "Arts & Crafts/Paper & Stickers",
          "Arts & Crafts/Painting By Numbers",
          "Characters & Brands/Early Learning Centre",
          "Office Supplies/Labels & Stickers",
          "Hobbies/Model Building Tools",
          "Home Accessories/Christmas",
          "Party Supplies/Banners",
          "Arts & Crafts/Doll Making",
          "Sports Toys & Outdoor/Airbeds & Inflating Devices",
          "Sports Toys & Outdoor/Water Pistols",
          "Sports Toys & Outdoor/Paddling Pools",
          "Sports Toys & Outdoor/Water Play Tables",
          "Sports Toys & Outdoor/Flotation Devices & Accessories",
          "Camping & Hiking/Hand Pumps",
          "Pretend Play/Play Tools",
          "Fancy Dress/Sets & Kits",
          "Fancy Dress/Adults",
          "Fancy Dress/Kids & Toddlers",
          "Fancy Dress/Temporary Tattoos",
          "Women/Accessories",
          "Hobbies/Race Tracks",
          "Hobbies/Robots",
          "Hobbies/Tanks",
          "Hobbies/Slot Cars, Race Tracks & Accessories",
          "Electronic Toys/Robots",
          "Hobbies/Slot Cars",
          "Hobbies/Service & Tuning Parts",
          "Hobbies/Helicopters & Quadcopters",
          "Hobbies/Parts & Accessories",
          "Electronic Toys/Kids Remote & App Controlled Toys",
          "Hobbies/Accessories",
          "Car Parts/Nuts & Bolts",
          "Hobbies/Packs & Sets",
          "Hobbies/Model Building Kits",
          "Hobbies/Boats & Watercraft",
          "Baby & Toddler Toys/Spinning Tops",
          "Party Supplies/Party Favours",
          "Dolls & Accessories/Fashion Dolls & Accessories",
          "Die-Cast & Toy Vehicles/Friction Cars",
          "Baby & Toddler Toys/Teaching Clocks",
          "Indoor Lighting/Book Lights",
          "Figures & Playsets/Cowboys & Indians",
          "Figures & Playsets/Accessories",
          "Games/Poker Sets",
          "Characters & Brands/BRIO Builder System",
          "Figures & Playsets/Transportation & Traffic",
          "Characters & Brands/Barbie Dolls & Accessories",
          "Educational Toys/Mathematics",
          "Characters & Brands/BRIO Wooden Railway System",
          "Electronic Toys/Digital Cameras",
          "Laundry, Storage & Organisation/Storage Boxes",
          "Supporters' Gear/Memorabilia & Collectibles",
          "Jams, Honey & Spreads/Sandwich Spreads, Pates & Pastes",
          "Hobbies/Albums",
          "Games/Game Sets",
          "Novelty & Special Use/Novelty",
          "Characters & Brands/Children's Games",
          "Sweets, Chocolate & Gum/Multipack Bars",
          "Party Supplies/Balloons",
          "Party Supplies/Props",
          "Musical Toy Instruments/Guitars & Strings",
          "Party Supplies/Streamers",
          "Party Supplies/Cake Decorations",
          "Party Supplies/Invitations",
          "Party Supplies/Party Tableware",
          "Men/T-Shirts",
          "Sex & Sensuality/Costumes",
          "Novelty & Special Use/Buttons & Pins",
          "Fancy Dress/Capes & Wings",
          "Fancy Dress/Hats",
          "Die-Cast & Toy Vehicles/Toy Cars & Trucks",
          "Hobbies/Steam Engines",
          "Hobbies/Landscape Architecture",
          "Fancy Dress/Masks",
          "Women/Sunglasses",
          "Figures & Playsets/Emergency Services",
          "Die-Cast & Toy Vehicles/Scaled Models",
          "Hobbies/Cars & Vehicles",
          "Cooking & Dining/Coasters",
          "Hobbies/Model Trains & Railway Sets",
          "Medication & Remedies/Alternative Medicine",
          "Sports Toys & Outdoor/Bikes, Trikes & Ride-ons",
          "Puppets & Puppet Theatres/Finger Puppets",
          "Indoor Lighting/Specialty & Decorative Lighting",
          "Baby & Toddler Toys/Activity Centres",
          "Sports Toys & Outdoor/Scooters",
          "Medication & Remedies/Hot & Cold Therapies",
          "Puppets & Puppet Theatres/Hand Puppets",
          "Jigsaws & Puzzles/3-D Puzzles",
          "Hobbies/Sleeves",
          "Hobbies/Sticker Collections",
          "Characters & Brands/Ravensburger",
          "Jigsaws & Puzzles/Jigsaws",
          "Hobbies/Cases",
          "Jigsaws & Puzzles/Brain Teasers",
          "Jigsaws & Puzzles/Frame Jigsaws",
          "Characters & Brands/Games",
          "Musical Toy Instruments/Pianos & Keyboards",
          "Party Supplies/Garlands",
          "Arts & Crafts/Sewing",
          "Party Supplies/Confetti",
          "Games/Card Games",
          "Hobbies/Single Cards",
          "Games/Poker Layouts",
          "Hobbies/Trading Cards & Accessories",
          "Characters & Brands/Marvin's Magic",
          "Games/Chess",
          "Games/Poker Tables",
          "Games/Bingo Equipment",
          "Games/Craps Layouts",
          "Games/Blackjack Sets",
          "Games/Poker Chips",
          "Games/Cases",
          "Games/Roulette Sets",
          "Characters & Brands/Stationery",
          "Hobbies/Track Construction",
          "Hobbies/Road Construction",
          "Hobbies/Cable",
          "Dogs/Costumes",
          "Figures & Playsets/Dinosaurs",
          "Characters & Brands/VTech",
          "Medical Supplies & Equipment/Tape & Supplies",
          "Cooking & Dining/Ice Cube Moulds & Trays",
          "Musical Toy Instruments/Wind & Brass",
          "Home Accessories/Novelty Decorations",
          "Office Supplies/Desk Supplies Organisers",
          "Arts & Crafts/Colouring Pens & Markers",
          "Arts & Crafts/Colouring Pencils",
          "Arts & Crafts/Poster Paints",
          "Pens, Pencils & Writing Supplies/Permanent Markers & Marker Pens",
          "Pens, Pencils & Writing Supplies/Erasers",
          "Pens, Pencils & Writing Supplies/Coloured Pencils",
          "Pens, Pencils & Writing Supplies/Correction Pens",
          "Pens, Pencils & Writing Supplies/Pen Refills",
          "Pens, Pencils & Writing Supplies/Art Markers",
          "Baby & Toddler Toys/Sorting, Stacking & Plugging Toys",
          "Baby & Toddler Toys/Sound Toys",
          "Baby & Toddler Toys/Rocking Horses",
          "Baby & Toddler Toys/Rattles",
          "Baby & Toddler Toys/Learning & Activity Toys",
          "Baby & Toddler Toys/Rockers & Ride-ons",
          "Dolls & Accessories/Dolls' House Accessories",
          "Die-Cast & Toy Vehicles/Toy Trains & Sets",
          "Educational Toys/Literacy & Spelling",
          "Games/Tabletop & Miniature Gaming",
          "Characters & Brands/WWE",
          "Figures & Playsets/Sport",
          "Sports Toys & Outdoor/Kites & Flight Toys",
          "Worlds Apart/Kites",
          "Sports Toys & Outdoor/Garden Tools",
          "Sports Toys & Outdoor/Darts & Accessories",
          "Sports Toys & Outdoor/Climbing Frames",
          "Gardening/Gardening Trowels",
          "Sports Toys & Outdoor/Cup & Ball Games",
          "Gardening/Greenhouses",
          "Sports Toys & Outdoor/Target Games",
          "Sports Toys & Outdoor/Racket Games",
          "Characters & Brands/Children's Puzzles",
          "Jigsaws & Puzzles/Jigsaw Accessories",
          "Die-Cast & Toy Vehicles/Aircraft",
          "Characters & Brands/BRIO Wooden Roadway System",
          "Hobbies/Wagons",
          "Characters & Brands/Ages 3-4 Years",
          "Characters & Brands/Take Along Thomas",
          "Hobbies/Starter Packs & Sets",
          "Lab & Scientific Products/Microscopes",
          "Die-Cast & Toy Vehicles/Toy Vehicle Playsets",
          "Party Supplies/Party Bags",
          "Dolls & Accessories/Playsets",
          "Dolls & Accessories/Vehicles",
          "Dolls & Accessories/Houses",
          "Dolls & Accessories/Soft Dolls",
          "Sports Toys & Outdoor/Children's Bikes",
          "Games/Educational Games",
          "Pretend Play/Shops & Accessories",
          "Puppets & Puppet Theatres/Accessories",
          "Dolls & Accessories/Dolls' House Furniture",
          "Dolls & Accessories/Dolls' Houses",
          "Figures & Playsets/Military",
          "Games/Strategy Games",
          "Characters & Brands/LeapPad Learning System",
          "Characters & Brands/Hornby",
          "Characters & Brands/LeapFrog",
          "Games/Dominoes & Tile Games",
          "Sports Toys & Outdoor/Push Power Ride-ons",
          "Games/Mystery Games",
          "Cooking & Dining/Straws",
          "Games/DVD Games",
          "Games/Trivia & Quiz Games",
          "Electronic Toys/Educational Computers & Accessories",
          "Women/Tops & T-Shirts",
          "Characters & Brands/Family Games",
          "Dolls & Accessories/Fashion Dolls",
          "Cooking & Dining/Glass Markers & Charms",
          "Arts & Crafts/Children's Knitting & Textile Design",
          "Novelty Jewellery/Bead Charms",
          "Games/Travel & Pocket Games",
          "Games/Drinking Games",
          "Hobbies",
          "Characters & Brands",
          "Fancy Dress",
          "Bags",
          "Arts & Crafts",
          "Handbags & Shoulder Bags",
          "Games",
          "Figures & Playsets",
          "Home Accessories",
          "Sweets, Chocolate & Gum",
          "Sports Toys & Outdoor",
          "Die-Cast & Toy Vehicles",
          "Baby & Toddler Toys",
          "Storage, Cleaning & Ring Sizers",
          "Bedding & Linens",
          "Office Supplies",
          "Party Supplies",
          "Camping & Hiking",
          "Pretend Play",
          "Women",
          "Electronic Toys",
          "Car Parts",
          "Dolls & Accessories",
          "Indoor Lighting",
          "Educational Toys",
          "Laundry, Storage & Organisation",
          "Supporters' Gear",
          "Jams, Honey & Spreads",
          "Novelty & Special Use",
          "Musical Toy Instruments",
          "Men",
          "Sex & Sensuality",
          "Cooking & Dining",
          "Medication & Remedies",
          "Puppets & Puppet Theatres",
          "Jigsaws & Puzzles",
          "Dogs",
          "Medical Supplies & Equipment",
          "Pens, Pencils & Writing Supplies",
          "Worlds Apart",
          "Gardening",
          "Lab & Scientific Products",
          "Novelty Jewellery"
         ],
         "labels": [
          "Trains",
          "Lamps & Lighting",
          "Locomotives",
          "Signal & Sound",
          "Recreational Activities",
          "Transformers & Decoders",
          "Wooden Thomas",
          "Control Moduls",
          "Landscaping",
          "Motor Road & Rail",
          "Hasbro",
          "Toys",
          "Costumes",
          "Bags",
          "Children's Craft Kits",
          "Tomy",
          "Kids'",
          "Dice & Dice Games",
          "Board Games",
          "Art Sand",
          "Felt Kits",
          "Farm & Animals",
          "Barbie",
          "Window Stickers",
          "Glitter",
          "Pirates",
          "Science Fiction & Fantasy",
          "Knights & Castles",
          "Chocolate",
          "Beach Toys",
          "Vehicles",
          "Boats",
          "Trains",
          "Pushchair Toys",
          "Figures",
          "Action Man",
          "Collectible Figures & Accessories",
          "Collectible Props & Memorabilia",
          "Bobbleheads & Busts",
          "Rockets & Spaceships",
          "Accessories",
          "Bead Art & Jewellery-Making",
          "Children's Chalk",
          "Blackboards",
          "Boxes & Organisers",
          "Flat Sheets",
          "Crayola",
          "Paper & Stickers",
          "Painting By Numbers",
          "Early Learning Centre",
          "Labels & Stickers",
          "Model Building Tools",
          "Christmas",
          "Banners",
          "Doll Making",
          "Airbeds & Inflating Devices",
          "Water Pistols",
          "Paddling Pools",
          "Water Play Tables",
          "Flotation Devices & Accessories",
          "Hand Pumps",
          "Play Tools",
          "Sets & Kits",
          "Adults",
          "Kids & Toddlers",
          "Temporary Tattoos",
          "Accessories",
          "Race Tracks",
          "Robots",
          "Tanks",
          "Slot Cars, Race Tracks & Accessories",
          "Robots",
          "Slot Cars",
          "Service & Tuning Parts",
          "Helicopters & Quadcopters",
          "Parts & Accessories",
          "Kids Remote & App Controlled Toys",
          "Accessories",
          "Nuts & Bolts",
          "Packs & Sets",
          "Model Building Kits",
          "Boats & Watercraft",
          "Spinning Tops",
          "Party Favours",
          "Fashion Dolls & Accessories",
          "Friction Cars",
          "Teaching Clocks",
          "Book Lights",
          "Cowboys & Indians",
          "Accessories",
          "Poker Sets",
          "BRIO Builder System",
          "Transportation & Traffic",
          "Barbie Dolls & Accessories",
          "Mathematics",
          "BRIO Wooden Railway System",
          "Digital Cameras",
          "Storage Boxes",
          "Memorabilia & Collectibles",
          "Sandwich Spreads, Pates & Pastes",
          "Albums",
          "Game Sets",
          "Novelty",
          "Children's Games",
          "Multipack Bars",
          "Balloons",
          "Props",
          "Guitars & Strings",
          "Streamers",
          "Cake Decorations",
          "Invitations",
          "Party Tableware",
          "T-Shirts",
          "Costumes",
          "Buttons & Pins",
          "Capes & Wings",
          "Hats",
          "Toy Cars & Trucks",
          "Steam Engines",
          "Landscape Architecture",
          "Masks",
          "Sunglasses",
          "Emergency Services",
          "Scaled Models",
          "Cars & Vehicles",
          "Coasters",
          "Model Trains & Railway Sets",
          "Alternative Medicine",
          "Bikes, Trikes & Ride-ons",
          "Finger Puppets",
          "Specialty & Decorative Lighting",
          "Activity Centres",
          "Scooters",
          "Hot & Cold Therapies",
          "Hand Puppets",
          "3-D Puzzles",
          "Sleeves",
          "Sticker Collections",
          "Ravensburger",
          "Jigsaws",
          "Cases",
          "Brain Teasers",
          "Frame Jigsaws",
          "Games",
          "Pianos & Keyboards",
          "Garlands",
          "Sewing",
          "Confetti",
          "Card Games",
          "Single Cards",
          "Poker Layouts",
          "Trading Cards & Accessories",
          "Marvin's Magic",
          "Chess",
          "Poker Tables",
          "Bingo Equipment",
          "Craps Layouts",
          "Blackjack Sets",
          "Poker Chips",
          "Cases",
          "Roulette Sets",
          "Stationery",
          "Track Construction",
          "Road Construction",
          "Cable",
          "Costumes",
          "Dinosaurs",
          "VTech",
          "Tape & Supplies",
          "Ice Cube Moulds & Trays",
          "Wind & Brass",
          "Novelty Decorations",
          "Desk Supplies Organisers",
          "Colouring Pens & Markers",
          "Colouring Pencils",
          "Poster Paints",
          "Permanent Markers & Marker Pens",
          "Erasers",
          "Coloured Pencils",
          "Correction Pens",
          "Pen Refills",
          "Art Markers",
          "Sorting, Stacking & Plugging Toys",
          "Sound Toys",
          "Rocking Horses",
          "Rattles",
          "Learning & Activity Toys",
          "Rockers & Ride-ons",
          "Dolls' House Accessories",
          "Toy Trains & Sets",
          "Literacy & Spelling",
          "Tabletop & Miniature Gaming",
          "WWE",
          "Sport",
          "Kites & Flight Toys",
          "Kites",
          "Garden Tools",
          "Darts & Accessories",
          "Climbing Frames",
          "Gardening Trowels",
          "Cup & Ball Games",
          "Greenhouses",
          "Target Games",
          "Racket Games",
          "Children's Puzzles",
          "Jigsaw Accessories",
          "Aircraft",
          "BRIO Wooden Roadway System",
          "Wagons",
          "Ages 3-4 Years",
          "Take Along Thomas",
          "Starter Packs & Sets",
          "Microscopes",
          "Toy Vehicle Playsets",
          "Party Bags",
          "Playsets",
          "Vehicles",
          "Houses",
          "Soft Dolls",
          "Children's Bikes",
          "Educational Games",
          "Shops & Accessories",
          "Accessories",
          "Dolls' House Furniture",
          "Dolls' Houses",
          "Military",
          "Strategy Games",
          "LeapPad Learning System",
          "Hornby",
          "LeapFrog",
          "Dominoes & Tile Games",
          "Push Power Ride-ons",
          "Mystery Games",
          "Straws",
          "DVD Games",
          "Trivia & Quiz Games",
          "Educational Computers & Accessories",
          "Tops & T-Shirts",
          "Family Games",
          "Fashion Dolls",
          "Glass Markers & Charms",
          "Children's Knitting & Textile Design",
          "Bead Charms",
          "Travel & Pocket Games",
          "Drinking Games",
          "Hobbies",
          "Characters & Brands",
          "Fancy Dress",
          "Bags",
          "Arts & Crafts",
          "Handbags & Shoulder Bags",
          "Games",
          "Figures & Playsets",
          "Home Accessories",
          "Sweets, Chocolate & Gum",
          "Sports Toys & Outdoor",
          "Die-Cast & Toy Vehicles",
          "Baby & Toddler Toys",
          "Storage, Cleaning & Ring Sizers",
          "Bedding & Linens",
          "Office Supplies",
          "Party Supplies",
          "Camping & Hiking",
          "Pretend Play",
          "Women",
          "Electronic Toys",
          "Car Parts",
          "Dolls & Accessories",
          "Indoor Lighting",
          "Educational Toys",
          "Laundry, Storage & Organisation",
          "Supporters' Gear",
          "Jams, Honey & Spreads",
          "Novelty & Special Use",
          "Musical Toy Instruments",
          "Men",
          "Sex & Sensuality",
          "Cooking & Dining",
          "Medication & Remedies",
          "Puppets & Puppet Theatres",
          "Jigsaws & Puzzles",
          "Dogs",
          "Medical Supplies & Equipment",
          "Pens, Pencils & Writing Supplies",
          "Worlds Apart",
          "Gardening",
          "Lab & Scientific Products",
          "Novelty Jewellery"
         ],
         "name": "",
         "parents": [
          "Hobbies",
          "Hobbies",
          "Hobbies",
          "Hobbies",
          "Hobbies",
          "Hobbies",
          "Characters & Brands",
          "Hobbies",
          "Hobbies",
          "Characters & Brands",
          "Characters & Brands",
          "Characters & Brands",
          "Fancy Dress",
          "Bags",
          "Arts & Crafts",
          "Characters & Brands",
          "Handbags & Shoulder Bags",
          "Games",
          "Games",
          "Arts & Crafts",
          "Arts & Crafts",
          "Figures & Playsets",
          "Characters & Brands",
          "Home Accessories",
          "Arts & Crafts",
          "Figures & Playsets",
          "Figures & Playsets",
          "Figures & Playsets",
          "Sweets, Chocolate & Gum",
          "Sports Toys & Outdoor",
          "Die-Cast & Toy Vehicles",
          "Die-Cast & Toy Vehicles",
          "Die-Cast & Toy Vehicles",
          "Baby & Toddler Toys",
          "Hobbies",
          "Characters & Brands",
          "Hobbies",
          "Hobbies",
          "Hobbies",
          "Die-Cast & Toy Vehicles",
          "Fancy Dress",
          "Arts & Crafts",
          "Arts & Crafts",
          "Arts & Crafts",
          "Storage, Cleaning & Ring Sizers",
          "Bedding & Linens",
          "Characters & Brands",
          "Arts & Crafts",
          "Arts & Crafts",
          "Characters & Brands",
          "Office Supplies",
          "Hobbies",
          "Home Accessories",
          "Party Supplies",
          "Arts & Crafts",
          "Sports Toys & Outdoor",
          "Sports Toys & Outdoor",
          "Sports Toys & Outdoor",
          "Sports Toys & Outdoor",
          "Sports Toys & Outdoor",
          "Camping & Hiking",
          "Pretend Play",
          "Fancy Dress",
          "Fancy Dress",
          "Fancy Dress",
          "Fancy Dress",
          "Women",
          "Hobbies",
          "Hobbies",
          "Hobbies",
          "Hobbies",
          "Electronic Toys",
          "Hobbies",
          "Hobbies",
          "Hobbies",
          "Hobbies",
          "Electronic Toys",
          "Hobbies",
          "Car Parts",
          "Hobbies",
          "Hobbies",
          "Hobbies",
          "Baby & Toddler Toys",
          "Party Supplies",
          "Dolls & Accessories",
          "Die-Cast & Toy Vehicles",
          "Baby & Toddler Toys",
          "Indoor Lighting",
          "Figures & Playsets",
          "Figures & Playsets",
          "Games",
          "Characters & Brands",
          "Figures & Playsets",
          "Characters & Brands",
          "Educational Toys",
          "Characters & Brands",
          "Electronic Toys",
          "Laundry, Storage & Organisation",
          "Supporters' Gear",
          "Jams, Honey & Spreads",
          "Hobbies",
          "Games",
          "Novelty & Special Use",
          "Characters & Brands",
          "Sweets, Chocolate & Gum",
          "Party Supplies",
          "Party Supplies",
          "Musical Toy Instruments",
          "Party Supplies",
          "Party Supplies",
          "Party Supplies",
          "Party Supplies",
          "Men",
          "Sex & Sensuality",
          "Novelty & Special Use",
          "Fancy Dress",
          "Fancy Dress",
          "Die-Cast & Toy Vehicles",
          "Hobbies",
          "Hobbies",
          "Fancy Dress",
          "Women",
          "Figures & Playsets",
          "Die-Cast & Toy Vehicles",
          "Hobbies",
          "Cooking & Dining",
          "Hobbies",
          "Medication & Remedies",
          "Sports Toys & Outdoor",
          "Puppets & Puppet Theatres",
          "Indoor Lighting",
          "Baby & Toddler Toys",
          "Sports Toys & Outdoor",
          "Medication & Remedies",
          "Puppets & Puppet Theatres",
          "Jigsaws & Puzzles",
          "Hobbies",
          "Hobbies",
          "Characters & Brands",
          "Jigsaws & Puzzles",
          "Hobbies",
          "Jigsaws & Puzzles",
          "Jigsaws & Puzzles",
          "Characters & Brands",
          "Musical Toy Instruments",
          "Party Supplies",
          "Arts & Crafts",
          "Party Supplies",
          "Games",
          "Hobbies",
          "Games",
          "Hobbies",
          "Characters & Brands",
          "Games",
          "Games",
          "Games",
          "Games",
          "Games",
          "Games",
          "Games",
          "Games",
          "Characters & Brands",
          "Hobbies",
          "Hobbies",
          "Hobbies",
          "Dogs",
          "Figures & Playsets",
          "Characters & Brands",
          "Medical Supplies & Equipment",
          "Cooking & Dining",
          "Musical Toy Instruments",
          "Home Accessories",
          "Office Supplies",
          "Arts & Crafts",
          "Arts & Crafts",
          "Arts & Crafts",
          "Pens, Pencils & Writing Supplies",
          "Pens, Pencils & Writing Supplies",
          "Pens, Pencils & Writing Supplies",
          "Pens, Pencils & Writing Supplies",
          "Pens, Pencils & Writing Supplies",
          "Pens, Pencils & Writing Supplies",
          "Baby & Toddler Toys",
          "Baby & Toddler Toys",
          "Baby & Toddler Toys",
          "Baby & Toddler Toys",
          "Baby & Toddler Toys",
          "Baby & Toddler Toys",
          "Dolls & Accessories",
          "Die-Cast & Toy Vehicles",
          "Educational Toys",
          "Games",
          "Characters & Brands",
          "Figures & Playsets",
          "Sports Toys & Outdoor",
          "Worlds Apart",
          "Sports Toys & Outdoor",
          "Sports Toys & Outdoor",
          "Sports Toys & Outdoor",
          "Gardening",
          "Sports Toys & Outdoor",
          "Gardening",
          "Sports Toys & Outdoor",
          "Sports Toys & Outdoor",
          "Characters & Brands",
          "Jigsaws & Puzzles",
          "Die-Cast & Toy Vehicles",
          "Characters & Brands",
          "Hobbies",
          "Characters & Brands",
          "Characters & Brands",
          "Hobbies",
          "Lab & Scientific Products",
          "Die-Cast & Toy Vehicles",
          "Party Supplies",
          "Dolls & Accessories",
          "Dolls & Accessories",
          "Dolls & Accessories",
          "Dolls & Accessories",
          "Sports Toys & Outdoor",
          "Games",
          "Pretend Play",
          "Puppets & Puppet Theatres",
          "Dolls & Accessories",
          "Dolls & Accessories",
          "Figures & Playsets",
          "Games",
          "Characters & Brands",
          "Characters & Brands",
          "Characters & Brands",
          "Games",
          "Sports Toys & Outdoor",
          "Games",
          "Cooking & Dining",
          "Games",
          "Games",
          "Electronic Toys",
          "Women",
          "Characters & Brands",
          "Dolls & Accessories",
          "Cooking & Dining",
          "Arts & Crafts",
          "Novelty Jewellery",
          "Games",
          "Games",
          "",
          "",
          "",
          "",
          "",
          "",
          "",
          "",
          "",
          "",
          "",
          "",
          "",
          "",
          "",
          "",
          "",
          "",
          "",
          "",
          "",
          "",
          "",
          "",
          "",
          "",
          "",
          "",
          "",
          "",
          "",
          "",
          "",
          "",
          "",
          "",
          "",
          "",
          "",
          "",
          "",
          "",
          ""
         ],
         "textinfo": "label+percent parent",
         "type": "sunburst",
         "values": {
          "bdata": "qgAIAFgADQAFAAEABwADAAIAAgCJAG8CCgAEADoALAABACoBCQBFAAEAIAAHAAMAAQBoAOUBlAABAAwAcAMSAAYAAgAuAAkALwAbAEEAAgALAHABAwAPAAEAAQAiAJQAEwAFAAIAAQABABYBAQAKAB0ATQAQACYAAQABADgAqQAIAIoAAQAzAAkAjwABAAEAZwAdAD0AggACAAwAAQA9AQQAAwAbAAgAAgAhAAIAAQAiAL8ABAABAAEABAACAAEAAQABAAIAAQAJAAEAAQABAAEAJQEJAAgAEAAPACAAAQABAAEACgADAAIAVgAJAAQAvAABAAIAQwADAAEAAQABAAMAGwABAAEAAQABAPEALQAgAAYAKwCVAAIATgABAAQABAAiAAEABwDyAAoAAgABAAEAVgADAAMAAQADAAIAAgABAAEAHAAKAAEAAgBSAA8AAQABAAcAAQAEAEsAKQABAAEAAgABAAEAAQABACUADAARAAUAAQACAKwAcgABAAIABAALAI0AAwAYAAsABAACAAEAAQABAAEABQABAAgAAgAGAAMAAgADAAEABwABAA8AAQACAJcAAgBxACwAAQAaAAEAFQABAAEAAQACAFQAAQABAAEADABFAAEAAQABAAEAAQABAAEAAQABALgFwANJAgQAIgMBAK0DVwQFAAIAdAHFBGoAAQABAAYAtgIBAC0AAwAFAAEAcwECAAMAAQACAAEACwATAAEAAQAEAAIADQESAQIAAQAHAAMAAwABAAEA",
          "dtype": "i2"
         }
        }
       ],
       "layout": {
        "font": {
         "size": 14
        },
        "height": 800,
        "legend": {
         "tracegroupgap": 0
        },
        "template": {
         "data": {
          "bar": [
           {
            "error_x": {
             "color": "#2a3f5f"
            },
            "error_y": {
             "color": "#2a3f5f"
            },
            "marker": {
             "line": {
              "color": "#E5ECF6",
              "width": 0.5
             },
             "pattern": {
              "fillmode": "overlay",
              "size": 10,
              "solidity": 0.2
             }
            },
            "type": "bar"
           }
          ],
          "barpolar": [
           {
            "marker": {
             "line": {
              "color": "#E5ECF6",
              "width": 0.5
             },
             "pattern": {
              "fillmode": "overlay",
              "size": 10,
              "solidity": 0.2
             }
            },
            "type": "barpolar"
           }
          ],
          "carpet": [
           {
            "aaxis": {
             "endlinecolor": "#2a3f5f",
             "gridcolor": "white",
             "linecolor": "white",
             "minorgridcolor": "white",
             "startlinecolor": "#2a3f5f"
            },
            "baxis": {
             "endlinecolor": "#2a3f5f",
             "gridcolor": "white",
             "linecolor": "white",
             "minorgridcolor": "white",
             "startlinecolor": "#2a3f5f"
            },
            "type": "carpet"
           }
          ],
          "choropleth": [
           {
            "colorbar": {
             "outlinewidth": 0,
             "ticks": ""
            },
            "type": "choropleth"
           }
          ],
          "contour": [
           {
            "colorbar": {
             "outlinewidth": 0,
             "ticks": ""
            },
            "colorscale": [
             [
              0,
              "#0d0887"
             ],
             [
              0.1111111111111111,
              "#46039f"
             ],
             [
              0.2222222222222222,
              "#7201a8"
             ],
             [
              0.3333333333333333,
              "#9c179e"
             ],
             [
              0.4444444444444444,
              "#bd3786"
             ],
             [
              0.5555555555555556,
              "#d8576b"
             ],
             [
              0.6666666666666666,
              "#ed7953"
             ],
             [
              0.7777777777777778,
              "#fb9f3a"
             ],
             [
              0.8888888888888888,
              "#fdca26"
             ],
             [
              1,
              "#f0f921"
             ]
            ],
            "type": "contour"
           }
          ],
          "contourcarpet": [
           {
            "colorbar": {
             "outlinewidth": 0,
             "ticks": ""
            },
            "type": "contourcarpet"
           }
          ],
          "heatmap": [
           {
            "colorbar": {
             "outlinewidth": 0,
             "ticks": ""
            },
            "colorscale": [
             [
              0,
              "#0d0887"
             ],
             [
              0.1111111111111111,
              "#46039f"
             ],
             [
              0.2222222222222222,
              "#7201a8"
             ],
             [
              0.3333333333333333,
              "#9c179e"
             ],
             [
              0.4444444444444444,
              "#bd3786"
             ],
             [
              0.5555555555555556,
              "#d8576b"
             ],
             [
              0.6666666666666666,
              "#ed7953"
             ],
             [
              0.7777777777777778,
              "#fb9f3a"
             ],
             [
              0.8888888888888888,
              "#fdca26"
             ],
             [
              1,
              "#f0f921"
             ]
            ],
            "type": "heatmap"
           }
          ],
          "histogram": [
           {
            "marker": {
             "pattern": {
              "fillmode": "overlay",
              "size": 10,
              "solidity": 0.2
             }
            },
            "type": "histogram"
           }
          ],
          "histogram2d": [
           {
            "colorbar": {
             "outlinewidth": 0,
             "ticks": ""
            },
            "colorscale": [
             [
              0,
              "#0d0887"
             ],
             [
              0.1111111111111111,
              "#46039f"
             ],
             [
              0.2222222222222222,
              "#7201a8"
             ],
             [
              0.3333333333333333,
              "#9c179e"
             ],
             [
              0.4444444444444444,
              "#bd3786"
             ],
             [
              0.5555555555555556,
              "#d8576b"
             ],
             [
              0.6666666666666666,
              "#ed7953"
             ],
             [
              0.7777777777777778,
              "#fb9f3a"
             ],
             [
              0.8888888888888888,
              "#fdca26"
             ],
             [
              1,
              "#f0f921"
             ]
            ],
            "type": "histogram2d"
           }
          ],
          "histogram2dcontour": [
           {
            "colorbar": {
             "outlinewidth": 0,
             "ticks": ""
            },
            "colorscale": [
             [
              0,
              "#0d0887"
             ],
             [
              0.1111111111111111,
              "#46039f"
             ],
             [
              0.2222222222222222,
              "#7201a8"
             ],
             [
              0.3333333333333333,
              "#9c179e"
             ],
             [
              0.4444444444444444,
              "#bd3786"
             ],
             [
              0.5555555555555556,
              "#d8576b"
             ],
             [
              0.6666666666666666,
              "#ed7953"
             ],
             [
              0.7777777777777778,
              "#fb9f3a"
             ],
             [
              0.8888888888888888,
              "#fdca26"
             ],
             [
              1,
              "#f0f921"
             ]
            ],
            "type": "histogram2dcontour"
           }
          ],
          "mesh3d": [
           {
            "colorbar": {
             "outlinewidth": 0,
             "ticks": ""
            },
            "type": "mesh3d"
           }
          ],
          "parcoords": [
           {
            "line": {
             "colorbar": {
              "outlinewidth": 0,
              "ticks": ""
             }
            },
            "type": "parcoords"
           }
          ],
          "pie": [
           {
            "automargin": true,
            "type": "pie"
           }
          ],
          "scatter": [
           {
            "fillpattern": {
             "fillmode": "overlay",
             "size": 10,
             "solidity": 0.2
            },
            "type": "scatter"
           }
          ],
          "scatter3d": [
           {
            "line": {
             "colorbar": {
              "outlinewidth": 0,
              "ticks": ""
             }
            },
            "marker": {
             "colorbar": {
              "outlinewidth": 0,
              "ticks": ""
             }
            },
            "type": "scatter3d"
           }
          ],
          "scattercarpet": [
           {
            "marker": {
             "colorbar": {
              "outlinewidth": 0,
              "ticks": ""
             }
            },
            "type": "scattercarpet"
           }
          ],
          "scattergeo": [
           {
            "marker": {
             "colorbar": {
              "outlinewidth": 0,
              "ticks": ""
             }
            },
            "type": "scattergeo"
           }
          ],
          "scattergl": [
           {
            "marker": {
             "colorbar": {
              "outlinewidth": 0,
              "ticks": ""
             }
            },
            "type": "scattergl"
           }
          ],
          "scattermap": [
           {
            "marker": {
             "colorbar": {
              "outlinewidth": 0,
              "ticks": ""
             }
            },
            "type": "scattermap"
           }
          ],
          "scattermapbox": [
           {
            "marker": {
             "colorbar": {
              "outlinewidth": 0,
              "ticks": ""
             }
            },
            "type": "scattermapbox"
           }
          ],
          "scatterpolar": [
           {
            "marker": {
             "colorbar": {
              "outlinewidth": 0,
              "ticks": ""
             }
            },
            "type": "scatterpolar"
           }
          ],
          "scatterpolargl": [
           {
            "marker": {
             "colorbar": {
              "outlinewidth": 0,
              "ticks": ""
             }
            },
            "type": "scatterpolargl"
           }
          ],
          "scatterternary": [
           {
            "marker": {
             "colorbar": {
              "outlinewidth": 0,
              "ticks": ""
             }
            },
            "type": "scatterternary"
           }
          ],
          "surface": [
           {
            "colorbar": {
             "outlinewidth": 0,
             "ticks": ""
            },
            "colorscale": [
             [
              0,
              "#0d0887"
             ],
             [
              0.1111111111111111,
              "#46039f"
             ],
             [
              0.2222222222222222,
              "#7201a8"
             ],
             [
              0.3333333333333333,
              "#9c179e"
             ],
             [
              0.4444444444444444,
              "#bd3786"
             ],
             [
              0.5555555555555556,
              "#d8576b"
             ],
             [
              0.6666666666666666,
              "#ed7953"
             ],
             [
              0.7777777777777778,
              "#fb9f3a"
             ],
             [
              0.8888888888888888,
              "#fdca26"
             ],
             [
              1,
              "#f0f921"
             ]
            ],
            "type": "surface"
           }
          ],
          "table": [
           {
            "cells": {
             "fill": {
              "color": "#EBF0F8"
             },
             "line": {
              "color": "white"
             }
            },
            "header": {
             "fill": {
              "color": "#C8D4E3"
             },
             "line": {
              "color": "white"
             }
            },
            "type": "table"
           }
          ]
         },
         "layout": {
          "annotationdefaults": {
           "arrowcolor": "#2a3f5f",
           "arrowhead": 0,
           "arrowwidth": 1
          },
          "autotypenumbers": "strict",
          "coloraxis": {
           "colorbar": {
            "outlinewidth": 0,
            "ticks": ""
           }
          },
          "colorscale": {
           "diverging": [
            [
             0,
             "#8e0152"
            ],
            [
             0.1,
             "#c51b7d"
            ],
            [
             0.2,
             "#de77ae"
            ],
            [
             0.3,
             "#f1b6da"
            ],
            [
             0.4,
             "#fde0ef"
            ],
            [
             0.5,
             "#f7f7f7"
            ],
            [
             0.6,
             "#e6f5d0"
            ],
            [
             0.7,
             "#b8e186"
            ],
            [
             0.8,
             "#7fbc41"
            ],
            [
             0.9,
             "#4d9221"
            ],
            [
             1,
             "#276419"
            ]
           ],
           "sequential": [
            [
             0,
             "#0d0887"
            ],
            [
             0.1111111111111111,
             "#46039f"
            ],
            [
             0.2222222222222222,
             "#7201a8"
            ],
            [
             0.3333333333333333,
             "#9c179e"
            ],
            [
             0.4444444444444444,
             "#bd3786"
            ],
            [
             0.5555555555555556,
             "#d8576b"
            ],
            [
             0.6666666666666666,
             "#ed7953"
            ],
            [
             0.7777777777777778,
             "#fb9f3a"
            ],
            [
             0.8888888888888888,
             "#fdca26"
            ],
            [
             1,
             "#f0f921"
            ]
           ],
           "sequentialminus": [
            [
             0,
             "#0d0887"
            ],
            [
             0.1111111111111111,
             "#46039f"
            ],
            [
             0.2222222222222222,
             "#7201a8"
            ],
            [
             0.3333333333333333,
             "#9c179e"
            ],
            [
             0.4444444444444444,
             "#bd3786"
            ],
            [
             0.5555555555555556,
             "#d8576b"
            ],
            [
             0.6666666666666666,
             "#ed7953"
            ],
            [
             0.7777777777777778,
             "#fb9f3a"
            ],
            [
             0.8888888888888888,
             "#fdca26"
            ],
            [
             1,
             "#f0f921"
            ]
           ]
          },
          "colorway": [
           "#636efa",
           "#EF553B",
           "#00cc96",
           "#ab63fa",
           "#FFA15A",
           "#19d3f3",
           "#FF6692",
           "#B6E880",
           "#FF97FF",
           "#FECB52"
          ],
          "font": {
           "color": "#2a3f5f"
          },
          "geo": {
           "bgcolor": "white",
           "lakecolor": "white",
           "landcolor": "#E5ECF6",
           "showlakes": true,
           "showland": true,
           "subunitcolor": "white"
          },
          "hoverlabel": {
           "align": "left"
          },
          "hovermode": "closest",
          "mapbox": {
           "style": "light"
          },
          "paper_bgcolor": "white",
          "plot_bgcolor": "#E5ECF6",
          "polar": {
           "angularaxis": {
            "gridcolor": "white",
            "linecolor": "white",
            "ticks": ""
           },
           "bgcolor": "#E5ECF6",
           "radialaxis": {
            "gridcolor": "white",
            "linecolor": "white",
            "ticks": ""
           }
          },
          "scene": {
           "xaxis": {
            "backgroundcolor": "#E5ECF6",
            "gridcolor": "white",
            "gridwidth": 2,
            "linecolor": "white",
            "showbackground": true,
            "ticks": "",
            "zerolinecolor": "white"
           },
           "yaxis": {
            "backgroundcolor": "#E5ECF6",
            "gridcolor": "white",
            "gridwidth": 2,
            "linecolor": "white",
            "showbackground": true,
            "ticks": "",
            "zerolinecolor": "white"
           },
           "zaxis": {
            "backgroundcolor": "#E5ECF6",
            "gridcolor": "white",
            "gridwidth": 2,
            "linecolor": "white",
            "showbackground": true,
            "ticks": "",
            "zerolinecolor": "white"
           }
          },
          "shapedefaults": {
           "line": {
            "color": "#2a3f5f"
           }
          },
          "ternary": {
           "aaxis": {
            "gridcolor": "white",
            "linecolor": "white",
            "ticks": ""
           },
           "baxis": {
            "gridcolor": "white",
            "linecolor": "white",
            "ticks": ""
           },
           "bgcolor": "#E5ECF6",
           "caxis": {
            "gridcolor": "white",
            "linecolor": "white",
            "ticks": ""
           }
          },
          "title": {
           "x": 0.05
          },
          "xaxis": {
           "automargin": true,
           "gridcolor": "white",
           "linecolor": "white",
           "ticks": "",
           "title": {
            "standoff": 15
           },
           "zerolinecolor": "white",
           "zerolinewidth": 2
          },
          "yaxis": {
           "automargin": true,
           "gridcolor": "white",
           "linecolor": "white",
           "ticks": "",
           "title": {
            "standoff": 15
           },
           "zerolinecolor": "white",
           "zerolinewidth": 2
          }
         }
        },
        "title": {
         "text": "Distribution of Categories and Subcategories"
        },
        "width": 800
       }
      },
      "image/png": "[encoded data removed]"
     },
     "metadata": {},
     "output_type": "display_data"
    }
   ],
   "source": [
    "import pandas as pd\n",
    "import plotly.express as px\n",
    "\n",
    "df = pd.read_csv(\"amazon_cat_subcat_processed.csv\")\n",
    "\n",
    "fig = px.sunburst(df,\n",
    "                  path=['category', 'subcategory'],\n",
    "                  title='Distribution of Categories and Subcategories')\n",
    "\n",
    "fig.update_layout(\n",
    "    font=dict(size=14),\n",
    "    width=800,  \n",
    "    height=800  \n",
    ")\n",
    "\n",
    "fig.update_traces(textinfo=\"label+percent parent\")\n",
    "\n",
    "fig.show()"
   ]
  },
  {
   "cell_type": "code",
   "execution_count": 50,
   "id": "3934b80a-d2f0-4dd3-8413-ad6ef99b3a66",
   "metadata": {},
   "outputs": [],
   "source": [
    "# import plotly.express as px\n",
    "# import pandas as pd\n",
    "\n",
    "# df = pd.read_csv(\"amazon_cat_subcat_processed.csv\")\n",
    "\n",
    "# fig = px.sunburst(df , path = ['category','subcategory'])\n",
    "\n",
    "# fig.update_layout(title_text='Distribution of Category and Subcategory',\n",
    "#                  width=800,  \n",
    "#                  height=800)\n",
    "# fig.update_traces(textinfo=\"label+percent parent\") # Show label and percentage of parent\n",
    "# fig.show()"
   ]
  },
  {
   "cell_type": "markdown",
   "id": "011c5c1f-bc95-4a43-8dd1-6ac1c1b0f12d",
   "metadata": {},
   "source": [
    "# Customer Questions and Answers:\n",
    "Using the column \"customer_questions_and_answers,\" extract the questions and answers.\n",
    "Questions are separated by \"|\", and answers are separated by \"//\".\n",
    "Save the results in amazon_qna_processed.csv with columns unique_id, question, and answers"
   ]
  },
  {
   "cell_type": "code",
   "execution_count": 25,
   "id": "619ee5c8-6e71-4652-a912-eff800956c8e",
   "metadata": {},
   "outputs": [
    {
     "data": {
      "text/plain": [
       "0    Does this catalogue detail all the previous Ho...\n",
       "1    can you turn off sounds // hi no you cant turn...\n",
       "Name: customer_questions_and_answers, dtype: object"
      ]
     },
     "execution_count": 25,
     "metadata": {},
     "output_type": "execute_result"
    }
   ],
   "source": [
    "df['customer_questions_and_answers'].head(2)"
   ]
  },
  {
   "cell_type": "code",
   "execution_count": 13,
   "id": "98914977-e046-43f0-921d-f5a31069ce50",
   "metadata": {},
   "outputs": [
    {
     "name": "stdout",
     "output_type": "stream",
     "text": [
      "The 'amazon_qna_processed.csv' file has been successfully created with columns unique_id, question, and answers.\n"
     ]
    }
   ],
   "source": [
    "import pandas as pd\n",
    "\n",
    "# Load the dataset\n",
    "df = pd.read_csv(\"C:\\\\Users\\\\vineet.soni\\\\Downloads\\\\DE Assignment (2)\\\\DE Assignment (2)\\\\DE Assignment\\\\data_enginner_assignment.csv\")\n",
    "\n",
    "# Select the relevant columns and fill any NaN values in the 'customer_questions_and_answers' column with an empty string\n",
    "qna_df = df[['uniq_id', 'customer_questions_and_answers']].copy()\n",
    "qna_df['customer_questions_and_answers'] = qna_df['customer_questions_and_answers'].fillna('')\n",
    "\n",
    "# Split the column by '|' to separate each question-answer pair and explode the list into separate rows\n",
    "qna_df['qna_pair'] = qna_df['customer_questions_and_answers'].str.split('|')\n",
    "qna_df = qna_df.explode('qna_pair')\n",
    "\n",
    "# Drop rows where the qna_pair is empty after splitting\n",
    "qna_df = qna_df[qna_df['qna_pair'].str.strip() != '']\n",
    "\n",
    "# Use rsplit to separate the question and answer based on the last '//' delimiter\n",
    "# .str[0] gets the question and .str[1] gets the answer\n",
    "qna_df['question'] = qna_df['qna_pair'].str.rsplit('//', n=1).str[0].str.strip()\n",
    "qna_df['answers'] = qna_df['qna_pair'].str.rsplit('//', n=1).str[1].str.strip()\n",
    "\n",
    "# Select the required columns and rename 'uniq_id' to 'unique_id'\n",
    "final_df = qna_df[['uniq_id', 'question', 'answers']].rename(columns={'uniq_id': 'unique_id'})\n",
    "\n",
    "# Remove any remaining rows where the 'question' or 'answers' are still NaN\n",
    "final_df = final_df.dropna(subset=['question', 'answers'])\n",
    "\n",
    "# Save the processed DataFrame to a new CSV file\n",
    "final_df.to_csv('amazon_qna_processed.csv', index=False)\n",
    "\n",
    "print(\"The 'amazon_qna_processed.csv' file has been successfully created with columns unique_id, question, and answers.\")"
   ]
  },
  {
   "cell_type": "markdown",
   "id": "87a266a1-e0dc-495e-a908-633cc5200b40",
   "metadata": {},
   "source": [
    "# Sellers:\n",
    "Using the column \"sellers,\" list all sellers for each product.\n",
    "If a product has multiple sellers, list each seller.\n",
    "Save the results in amazon_seller_listing_processed.csv with columns unique_id and sellerName"
   ]
  },
  {
   "cell_type": "code",
   "execution_count": 24,
   "id": "21d9effe-95bc-47be-a9c1-cf41ae91cf8a",
   "metadata": {},
   "outputs": [
    {
     "data": {
      "text/html": [
       "<div>\n",
       "<style scoped>\n",
       "    .dataframe tbody tr th:only-of-type {\n",
       "        vertical-align: middle;\n",
       "    }\n",
       "\n",
       "    .dataframe tbody tr th {\n",
       "        vertical-align: top;\n",
       "    }\n",
       "\n",
       "    .dataframe thead th {\n",
       "        text-align: right;\n",
       "    }\n",
       "</style>\n",
       "<table border=\"1\" class=\"dataframe\">\n",
       "  <thead>\n",
       "    <tr style=\"text-align: right;\">\n",
       "      <th></th>\n",
       "      <th>uniq_id</th>\n",
       "      <th>product_name</th>\n",
       "      <th>manufacturer</th>\n",
       "      <th>price</th>\n",
       "      <th>number_available_in_stock</th>\n",
       "      <th>number_of_reviews</th>\n",
       "      <th>number_of_answered_questions</th>\n",
       "      <th>average_review_rating</th>\n",
       "      <th>amazon_category_and_sub_category</th>\n",
       "      <th>customers_who_bought_this_item_also_bought</th>\n",
       "      <th>description</th>\n",
       "      <th>product_information</th>\n",
       "      <th>product_description</th>\n",
       "      <th>items_customers_buy_after_viewing_this_item</th>\n",
       "      <th>customer_questions_and_answers</th>\n",
       "      <th>customer_reviews</th>\n",
       "      <th>sellers</th>\n",
       "    </tr>\n",
       "  </thead>\n",
       "  <tbody>\n",
       "    <tr>\n",
       "      <th>0</th>\n",
       "      <td>eac7efa5dbd3d667f26eb3d3ab504464</td>\n",
       "      <td>Hornby 2014 Catalogue</td>\n",
       "      <td>Hornby</td>\n",
       "      <td>£3.42</td>\n",
       "      <td>5 new</td>\n",
       "      <td>15</td>\n",
       "      <td>1.0</td>\n",
       "      <td>4.9 out of 5 stars</td>\n",
       "      <td>Hobbies &gt; Model Trains &amp; Railway Sets &gt; Rail V...</td>\n",
       "      <td>http://www.amazon.co.uk/Hornby-R8150-Catalogue...</td>\n",
       "      <td>Product Description Hornby 2014 Catalogue Box ...</td>\n",
       "      <td>Technical Details Item Weight640 g Product Dim...</td>\n",
       "      <td>Product Description Hornby 2014 Catalogue Box ...</td>\n",
       "      <td>http://www.amazon.co.uk/Hornby-R8150-Catalogue...</td>\n",
       "      <td>Does this catalogue detail all the previous Ho...</td>\n",
       "      <td>Worth Buying For The Pictures Alone (As Ever) ...</td>\n",
       "      <td>{\"seller\"=&gt;[{\"Seller_name_1\"=&gt;\"Amazon.co.uk\", ...</td>\n",
       "    </tr>\n",
       "    <tr>\n",
       "      <th>1</th>\n",
       "      <td>b17540ef7e86e461d37f3ae58b7b72ac</td>\n",
       "      <td>FunkyBuys® Large Christmas Holiday Express Fes...</td>\n",
       "      <td>FunkyBuys</td>\n",
       "      <td>£16.99</td>\n",
       "      <td>NaN</td>\n",
       "      <td>2</td>\n",
       "      <td>1.0</td>\n",
       "      <td>4.5 out of 5 stars</td>\n",
       "      <td>Hobbies &gt; Model Trains &amp; Railway Sets &gt; Rail V...</td>\n",
       "      <td>http://www.amazon.co.uk/Christmas-Holiday-Expr...</td>\n",
       "      <td>Size Name:Large FunkyBuys® Large Christmas Hol...</td>\n",
       "      <td>Technical Details Manufacturer recommended age...</td>\n",
       "      <td>Size Name:Large FunkyBuys® Large Christmas Hol...</td>\n",
       "      <td>http://www.amazon.co.uk/Christmas-Holiday-Expr...</td>\n",
       "      <td>can you turn off sounds // hi no you cant turn...</td>\n",
       "      <td>Four Stars // 4.0 // 18 Dec. 2015 // By\\n    \\...</td>\n",
       "      <td>{\"seller\"=&gt;{\"Seller_name_1\"=&gt;\"UHD WHOLESALE\", ...</td>\n",
       "    </tr>\n",
       "  </tbody>\n",
       "</table>\n",
       "</div>"
      ],
      "text/plain": [
       "                            uniq_id  \\\n",
       "0  eac7efa5dbd3d667f26eb3d3ab504464   \n",
       "1  b17540ef7e86e461d37f3ae58b7b72ac   \n",
       "\n",
       "                                        product_name manufacturer   price  \\\n",
       "0                              Hornby 2014 Catalogue       Hornby   £3.42   \n",
       "1  FunkyBuys® Large Christmas Holiday Express Fes...    FunkyBuys  £16.99   \n",
       "\n",
       "  number_available_in_stock number_of_reviews  number_of_answered_questions  \\\n",
       "0                     5 new                15                           1.0   \n",
       "1                       NaN                 2                           1.0   \n",
       "\n",
       "  average_review_rating                   amazon_category_and_sub_category  \\\n",
       "0    4.9 out of 5 stars  Hobbies > Model Trains & Railway Sets > Rail V...   \n",
       "1    4.5 out of 5 stars  Hobbies > Model Trains & Railway Sets > Rail V...   \n",
       "\n",
       "          customers_who_bought_this_item_also_bought  \\\n",
       "0  http://www.amazon.co.uk/Hornby-R8150-Catalogue...   \n",
       "1  http://www.amazon.co.uk/Christmas-Holiday-Expr...   \n",
       "\n",
       "                                         description  \\\n",
       "0  Product Description Hornby 2014 Catalogue Box ...   \n",
       "1  Size Name:Large FunkyBuys® Large Christmas Hol...   \n",
       "\n",
       "                                 product_information  \\\n",
       "0  Technical Details Item Weight640 g Product Dim...   \n",
       "1  Technical Details Manufacturer recommended age...   \n",
       "\n",
       "                                 product_description  \\\n",
       "0  Product Description Hornby 2014 Catalogue Box ...   \n",
       "1  Size Name:Large FunkyBuys® Large Christmas Hol...   \n",
       "\n",
       "         items_customers_buy_after_viewing_this_item  \\\n",
       "0  http://www.amazon.co.uk/Hornby-R8150-Catalogue...   \n",
       "1  http://www.amazon.co.uk/Christmas-Holiday-Expr...   \n",
       "\n",
       "                      customer_questions_and_answers  \\\n",
       "0  Does this catalogue detail all the previous Ho...   \n",
       "1  can you turn off sounds // hi no you cant turn...   \n",
       "\n",
       "                                    customer_reviews  \\\n",
       "0  Worth Buying For The Pictures Alone (As Ever) ...   \n",
       "1  Four Stars // 4.0 // 18 Dec. 2015 // By\\n    \\...   \n",
       "\n",
       "                                             sellers  \n",
       "0  {\"seller\"=>[{\"Seller_name_1\"=>\"Amazon.co.uk\", ...  \n",
       "1  {\"seller\"=>{\"Seller_name_1\"=>\"UHD WHOLESALE\", ...  "
      ]
     },
     "execution_count": 24,
     "metadata": {},
     "output_type": "execute_result"
    }
   ],
   "source": [
    "df.head(2)"
   ]
  },
  {
   "cell_type": "code",
   "execution_count": 14,
   "id": "ffc0a9cc-58ff-49a4-acd3-f4e6f03a7734",
   "metadata": {},
   "outputs": [
    {
     "name": "stdout",
     "output_type": "stream",
     "text": [
      "The 'amazon_seller_listing_processed.csv' file has been successfully created.\n"
     ]
    }
   ],
   "source": [
    "import pandas as pd\n",
    "\n",
    "# Load the dataset\n",
    "df = pd.read_csv(\"C:\\\\Users\\\\vineet.soni\\\\Downloads\\\\DE Assignment (2)\\\\DE Assignment (2)\\\\DE Assignment\\\\data_enginner_assignment.csv\")\n",
    "\n",
    "# Initializing a list to hold the processed data\n",
    "seller_data = []\n",
    "\n",
    "for index, row in df.iterrows():\n",
    "    unique_id = row['uniq_id']\n",
    "    sellers_str = row['sellers']\n",
    "\n",
    "    # Skip rows with missing seller data\n",
    "    if pd.isna(sellers_str):\n",
    "        continue\n",
    "\n",
    "    \n",
    "    # Check if the string contains multiple sellers or a single one.\n",
    "    if '}, {' in sellers_str:\n",
    "        seller_list_str = sellers_str.split('}, {')\n",
    "    else:\n",
    "        # Single seller or malformed string, treat it as a single item list.\n",
    "        seller_list_str = [sellers_str]\n",
    "\n",
    "    for seller_item_str in seller_list_str:\n",
    "        parts = seller_item_str.split('=>')\n",
    "        if len(parts) > 1:\n",
    "            seller_name_key = parts[0].strip().replace('{', '').replace('\"', '').strip()\n",
    "            seller_name_value = parts[1].strip().replace('}', '').replace('\"', '').replace(']', '').strip()\n",
    "            \n",
    "            # Extract the actual seller name and add it to our list\n",
    "            if seller_name_key.startswith('Seller_name_') and seller_name_value:\n",
    "                seller_data.append({'unique_id': unique_id, 'sellerName': seller_name_value})\n",
    "\n",
    "# Create a new DataFrame from the extracted data\n",
    "amazon_seller_listing_processed = pd.DataFrame(seller_data)\n",
    "\n",
    "# Save the new DataFrame to a CSV file\n",
    "amazon_seller_listing_processed.to_csv('amazon_seller_listing_processed.csv', index=False)\n",
    "\n",
    "print(\"The 'amazon_seller_listing_processed.csv' file has been successfully created.\")"
   ]
  },
  {
   "cell_type": "code",
   "execution_count": 29,
   "id": "c690d928-bed9-4e73-9016-1a34e582cbcd",
   "metadata": {},
   "outputs": [
    {
     "data": {
      "application/vnd.plotly.v1+json": {
       "config": {
        "plotlyServerURL": "https://plot.ly"
       },
       "data": [
        {
         "domain": {
          "x": [
           0,
           1
          ],
          "y": [
           0,
           1
          ]
         },
         "hole": 0.4,
         "hovertemplate": "Category: %{label}<br>Value: %{value}<extra></extra>",
         "labels": [
          "Arts & Crafts",
          "Baby & Toddler Toys",
          "Bags",
          "Bedding & Linens",
          "Camping & Hiking",
          "Car Parts",
          "Characters & Brands",
          "Cooking & Dining",
          "Die-Cast & Toy Vehicles",
          "Dogs",
          "Dolls & Accessories",
          "Educational Toys",
          "Electronic Toys",
          "Fancy Dress",
          "Figures & Playsets",
          "Games",
          "Gardening",
          "Handbags & Shoulder Bags",
          "Hobbies",
          "Home Accessories",
          "Indoor Lighting",
          "Jams, Honey & Spreads",
          "Jigsaws & Puzzles",
          "Lab & Scientific Products",
          "Laundry, Storage & Organisation",
          "Medical Supplies & Equipment",
          "Medication & Remedies",
          "Men",
          "Musical Toy Instruments",
          "Novelty & Special Use",
          "Novelty Jewellery",
          "Office Supplies",
          "Party Supplies",
          "Pens, Pencils & Writing Supplies",
          "Pretend Play",
          "Puppets & Puppet Theatres",
          "Sex & Sensuality",
          "Sports Toys & Outdoor",
          "Storage, Cleaning & Ring Sizers",
          "Supporters' Gear",
          "Sweets, Chocolate & Gum",
          "Women",
          "Worlds Apart"
         ],
         "marker": {
          "colors": [
           "#636EFA",
           "#EF553B",
           "#00CC96",
           "#AB63FA",
           "#FFA15A",
           "#19D3F3",
           "#FF6692",
           "#B6E880",
           "#FF97FF",
           "#FECB52"
          ]
         },
         "name": "Categories",
         "type": "pie",
         "values": {
          "bdata": "IgNqAAQAAQABAAEAwAMEAMUEAgBzAQMABQBJAlcErQMDAAEAuAUFAAIAAQASAQEAAQABAAIAAQATAAsAAQAGALYCBwAtAA0BAQB0AQEAAgACAAMAAwA=",
          "dtype": "i2"
         }
        }
       ],
       "layout": {
        "template": {
         "data": {
          "bar": [
           {
            "error_x": {
             "color": "#2a3f5f"
            },
            "error_y": {
             "color": "#2a3f5f"
            },
            "marker": {
             "line": {
              "color": "#E5ECF6",
              "width": 0.5
             },
             "pattern": {
              "fillmode": "overlay",
              "size": 10,
              "solidity": 0.2
             }
            },
            "type": "bar"
           }
          ],
          "barpolar": [
           {
            "marker": {
             "line": {
              "color": "#E5ECF6",
              "width": 0.5
             },
             "pattern": {
              "fillmode": "overlay",
              "size": 10,
              "solidity": 0.2
             }
            },
            "type": "barpolar"
           }
          ],
          "carpet": [
           {
            "aaxis": {
             "endlinecolor": "#2a3f5f",
             "gridcolor": "white",
             "linecolor": "white",
             "minorgridcolor": "white",
             "startlinecolor": "#2a3f5f"
            },
            "baxis": {
             "endlinecolor": "#2a3f5f",
             "gridcolor": "white",
             "linecolor": "white",
             "minorgridcolor": "white",
             "startlinecolor": "#2a3f5f"
            },
            "type": "carpet"
           }
          ],
          "choropleth": [
           {
            "colorbar": {
             "outlinewidth": 0,
             "ticks": ""
            },
            "type": "choropleth"
           }
          ],
          "contour": [
           {
            "colorbar": {
             "outlinewidth": 0,
             "ticks": ""
            },
            "colorscale": [
             [
              0,
              "#0d0887"
             ],
             [
              0.1111111111111111,
              "#46039f"
             ],
             [
              0.2222222222222222,
              "#7201a8"
             ],
             [
              0.3333333333333333,
              "#9c179e"
             ],
             [
              0.4444444444444444,
              "#bd3786"
             ],
             [
              0.5555555555555556,
              "#d8576b"
             ],
             [
              0.6666666666666666,
              "#ed7953"
             ],
             [
              0.7777777777777778,
              "#fb9f3a"
             ],
             [
              0.8888888888888888,
              "#fdca26"
             ],
             [
              1,
              "#f0f921"
             ]
            ],
            "type": "contour"
           }
          ],
          "contourcarpet": [
           {
            "colorbar": {
             "outlinewidth": 0,
             "ticks": ""
            },
            "type": "contourcarpet"
           }
          ],
          "heatmap": [
           {
            "colorbar": {
             "outlinewidth": 0,
             "ticks": ""
            },
            "colorscale": [
             [
              0,
              "#0d0887"
             ],
             [
              0.1111111111111111,
              "#46039f"
             ],
             [
              0.2222222222222222,
              "#7201a8"
             ],
             [
              0.3333333333333333,
              "#9c179e"
             ],
             [
              0.4444444444444444,
              "#bd3786"
             ],
             [
              0.5555555555555556,
              "#d8576b"
             ],
             [
              0.6666666666666666,
              "#ed7953"
             ],
             [
              0.7777777777777778,
              "#fb9f3a"
             ],
             [
              0.8888888888888888,
              "#fdca26"
             ],
             [
              1,
              "#f0f921"
             ]
            ],
            "type": "heatmap"
           }
          ],
          "histogram": [
           {
            "marker": {
             "pattern": {
              "fillmode": "overlay",
              "size": 10,
              "solidity": 0.2
             }
            },
            "type": "histogram"
           }
          ],
          "histogram2d": [
           {
            "colorbar": {
             "outlinewidth": 0,
             "ticks": ""
            },
            "colorscale": [
             [
              0,
              "#0d0887"
             ],
             [
              0.1111111111111111,
              "#46039f"
             ],
             [
              0.2222222222222222,
              "#7201a8"
             ],
             [
              0.3333333333333333,
              "#9c179e"
             ],
             [
              0.4444444444444444,
              "#bd3786"
             ],
             [
              0.5555555555555556,
              "#d8576b"
             ],
             [
              0.6666666666666666,
              "#ed7953"
             ],
             [
              0.7777777777777778,
              "#fb9f3a"
             ],
             [
              0.8888888888888888,
              "#fdca26"
             ],
             [
              1,
              "#f0f921"
             ]
            ],
            "type": "histogram2d"
           }
          ],
          "histogram2dcontour": [
           {
            "colorbar": {
             "outlinewidth": 0,
             "ticks": ""
            },
            "colorscale": [
             [
              0,
              "#0d0887"
             ],
             [
              0.1111111111111111,
              "#46039f"
             ],
             [
              0.2222222222222222,
              "#7201a8"
             ],
             [
              0.3333333333333333,
              "#9c179e"
             ],
             [
              0.4444444444444444,
              "#bd3786"
             ],
             [
              0.5555555555555556,
              "#d8576b"
             ],
             [
              0.6666666666666666,
              "#ed7953"
             ],
             [
              0.7777777777777778,
              "#fb9f3a"
             ],
             [
              0.8888888888888888,
              "#fdca26"
             ],
             [
              1,
              "#f0f921"
             ]
            ],
            "type": "histogram2dcontour"
           }
          ],
          "mesh3d": [
           {
            "colorbar": {
             "outlinewidth": 0,
             "ticks": ""
            },
            "type": "mesh3d"
           }
          ],
          "parcoords": [
           {
            "line": {
             "colorbar": {
              "outlinewidth": 0,
              "ticks": ""
             }
            },
            "type": "parcoords"
           }
          ],
          "pie": [
           {
            "automargin": true,
            "type": "pie"
           }
          ],
          "scatter": [
           {
            "fillpattern": {
             "fillmode": "overlay",
             "size": 10,
             "solidity": 0.2
            },
            "type": "scatter"
           }
          ],
          "scatter3d": [
           {
            "line": {
             "colorbar": {
              "outlinewidth": 0,
              "ticks": ""
             }
            },
            "marker": {
             "colorbar": {
              "outlinewidth": 0,
              "ticks": ""
             }
            },
            "type": "scatter3d"
           }
          ],
          "scattercarpet": [
           {
            "marker": {
             "colorbar": {
              "outlinewidth": 0,
              "ticks": ""
             }
            },
            "type": "scattercarpet"
           }
          ],
          "scattergeo": [
           {
            "marker": {
             "colorbar": {
              "outlinewidth": 0,
              "ticks": ""
             }
            },
            "type": "scattergeo"
           }
          ],
          "scattergl": [
           {
            "marker": {
             "colorbar": {
              "outlinewidth": 0,
              "ticks": ""
             }
            },
            "type": "scattergl"
           }
          ],
          "scattermap": [
           {
            "marker": {
             "colorbar": {
              "outlinewidth": 0,
              "ticks": ""
             }
            },
            "type": "scattermap"
           }
          ],
          "scattermapbox": [
           {
            "marker": {
             "colorbar": {
              "outlinewidth": 0,
              "ticks": ""
             }
            },
            "type": "scattermapbox"
           }
          ],
          "scatterpolar": [
           {
            "marker": {
             "colorbar": {
              "outlinewidth": 0,
              "ticks": ""
             }
            },
            "type": "scatterpolar"
           }
          ],
          "scatterpolargl": [
           {
            "marker": {
             "colorbar": {
              "outlinewidth": 0,
              "ticks": ""
             }
            },
            "type": "scatterpolargl"
           }
          ],
          "scatterternary": [
           {
            "marker": {
             "colorbar": {
              "outlinewidth": 0,
              "ticks": ""
             }
            },
            "type": "scatterternary"
           }
          ],
          "surface": [
           {
            "colorbar": {
             "outlinewidth": 0,
             "ticks": ""
            },
            "colorscale": [
             [
              0,
              "#0d0887"
             ],
             [
              0.1111111111111111,
              "#46039f"
             ],
             [
              0.2222222222222222,
              "#7201a8"
             ],
             [
              0.3333333333333333,
              "#9c179e"
             ],
             [
              0.4444444444444444,
              "#bd3786"
             ],
             [
              0.5555555555555556,
              "#d8576b"
             ],
             [
              0.6666666666666666,
              "#ed7953"
             ],
             [
              0.7777777777777778,
              "#fb9f3a"
             ],
             [
              0.8888888888888888,
              "#fdca26"
             ],
             [
              1,
              "#f0f921"
             ]
            ],
            "type": "surface"
           }
          ],
          "table": [
           {
            "cells": {
             "fill": {
              "color": "#EBF0F8"
             },
             "line": {
              "color": "white"
             }
            },
            "header": {
             "fill": {
              "color": "#C8D4E3"
             },
             "line": {
              "color": "white"
             }
            },
            "type": "table"
           }
          ]
         },
         "layout": {
          "annotationdefaults": {
           "arrowcolor": "#2a3f5f",
           "arrowhead": 0,
           "arrowwidth": 1
          },
          "autotypenumbers": "strict",
          "coloraxis": {
           "colorbar": {
            "outlinewidth": 0,
            "ticks": ""
           }
          },
          "colorscale": {
           "diverging": [
            [
             0,
             "#8e0152"
            ],
            [
             0.1,
             "#c51b7d"
            ],
            [
             0.2,
             "#de77ae"
            ],
            [
             0.3,
             "#f1b6da"
            ],
            [
             0.4,
             "#fde0ef"
            ],
            [
             0.5,
             "#f7f7f7"
            ],
            [
             0.6,
             "#e6f5d0"
            ],
            [
             0.7,
             "#b8e186"
            ],
            [
             0.8,
             "#7fbc41"
            ],
            [
             0.9,
             "#4d9221"
            ],
            [
             1,
             "#276419"
            ]
           ],
           "sequential": [
            [
             0,
             "#0d0887"
            ],
            [
             0.1111111111111111,
             "#46039f"
            ],
            [
             0.2222222222222222,
             "#7201a8"
            ],
            [
             0.3333333333333333,
             "#9c179e"
            ],
            [
             0.4444444444444444,
             "#bd3786"
            ],
            [
             0.5555555555555556,
             "#d8576b"
            ],
            [
             0.6666666666666666,
             "#ed7953"
            ],
            [
             0.7777777777777778,
             "#fb9f3a"
            ],
            [
             0.8888888888888888,
             "#fdca26"
            ],
            [
             1,
             "#f0f921"
            ]
           ],
           "sequentialminus": [
            [
             0,
             "#0d0887"
            ],
            [
             0.1111111111111111,
             "#46039f"
            ],
            [
             0.2222222222222222,
             "#7201a8"
            ],
            [
             0.3333333333333333,
             "#9c179e"
            ],
            [
             0.4444444444444444,
             "#bd3786"
            ],
            [
             0.5555555555555556,
             "#d8576b"
            ],
            [
             0.6666666666666666,
             "#ed7953"
            ],
            [
             0.7777777777777778,
             "#fb9f3a"
            ],
            [
             0.8888888888888888,
             "#fdca26"
            ],
            [
             1,
             "#f0f921"
            ]
           ]
          },
          "colorway": [
           "#636efa",
           "#EF553B",
           "#00cc96",
           "#ab63fa",
           "#FFA15A",
           "#19d3f3",
           "#FF6692",
           "#B6E880",
           "#FF97FF",
           "#FECB52"
          ],
          "font": {
           "color": "#2a3f5f"
          },
          "geo": {
           "bgcolor": "white",
           "lakecolor": "white",
           "landcolor": "#E5ECF6",
           "showlakes": true,
           "showland": true,
           "subunitcolor": "white"
          },
          "hoverlabel": {
           "align": "left"
          },
          "hovermode": "closest",
          "mapbox": {
           "style": "light"
          },
          "paper_bgcolor": "white",
          "plot_bgcolor": "#E5ECF6",
          "polar": {
           "angularaxis": {
            "gridcolor": "white",
            "linecolor": "white",
            "ticks": ""
           },
           "bgcolor": "#E5ECF6",
           "radialaxis": {
            "gridcolor": "white",
            "linecolor": "white",
            "ticks": ""
           }
          },
          "scene": {
           "xaxis": {
            "backgroundcolor": "#E5ECF6",
            "gridcolor": "white",
            "gridwidth": 2,
            "linecolor": "white",
            "showbackground": true,
            "ticks": "",
            "zerolinecolor": "white"
           },
           "yaxis": {
            "backgroundcolor": "#E5ECF6",
            "gridcolor": "white",
            "gridwidth": 2,
            "linecolor": "white",
            "showbackground": true,
            "ticks": "",
            "zerolinecolor": "white"
           },
           "zaxis": {
            "backgroundcolor": "#E5ECF6",
            "gridcolor": "white",
            "gridwidth": 2,
            "linecolor": "white",
            "showbackground": true,
            "ticks": "",
            "zerolinecolor": "white"
           }
          },
          "shapedefaults": {
           "line": {
            "color": "#2a3f5f"
           }
          },
          "ternary": {
           "aaxis": {
            "gridcolor": "white",
            "linecolor": "white",
            "ticks": ""
           },
           "baxis": {
            "gridcolor": "white",
            "linecolor": "white",
            "ticks": ""
           },
           "bgcolor": "#E5ECF6",
           "caxis": {
            "gridcolor": "white",
            "linecolor": "white",
            "ticks": ""
           }
          },
          "title": {
           "x": 0.05
          },
          "xaxis": {
           "automargin": true,
           "gridcolor": "white",
           "linecolor": "white",
           "ticks": "",
           "title": {
            "standoff": 15
           },
           "zerolinecolor": "white",
           "zerolinewidth": 2
          },
          "yaxis": {
           "automargin": true,
           "gridcolor": "white",
           "linecolor": "white",
           "ticks": "",
           "title": {
            "standoff": 15
           },
           "zerolinecolor": "white",
           "zerolinewidth": 2
          }
         }
        },
        "title": {
         "text": "Category Distribution",
         "x": 0.5,
         "y": 0.9
        }
       }
      },
      "image/png": "[encoded data removed]"
     },
     "metadata": {},
     "output_type": "display_data"
    },
    {
     "data": {
      "application/vnd.plotly.v1+json": {
       "config": {
        "plotlyServerURL": "https://plot.ly"
       },
       "data": [
        {
         "domain": {
          "x": [
           0,
           1
          ],
          "y": [
           0,
           1
          ]
         },
         "hole": 0.4,
         "hovertemplate": "Subcategory: %{label}<br>Value: %{value}<extra></extra>",
         "labels": [
          "3-D Puzzles",
          "Accessories",
          "Action Man",
          "Activity Centres",
          "Adults",
          "Ages 3-4 Years",
          "Airbeds & Inflating Devices",
          "Aircraft",
          "Albums",
          "Alternative Medicine",
          "Art Markers",
          "Art Sand",
          "BRIO Builder System",
          "BRIO Wooden Railway System",
          "BRIO Wooden Roadway System",
          "Bags",
          "Balloons",
          "Banners",
          "Barbie",
          "Barbie Dolls & Accessories",
          "Beach Toys",
          "Bead Art & Jewellery-Making",
          "Bead Charms",
          "Bikes, Trikes & Ride-ons",
          "Bingo Equipment",
          "Blackboards",
          "Blackjack Sets",
          "Board Games",
          "Boats",
          "Boats & Watercraft",
          "Bobbleheads & Busts",
          "Book Lights",
          "Boxes & Organisers",
          "Brain Teasers",
          "Buttons & Pins",
          "Cable",
          "Cake Decorations",
          "Capes & Wings",
          "Card Games",
          "Cars & Vehicles",
          "Cases",
          "Chess",
          "Children's Bikes",
          "Children's Chalk",
          "Children's Craft Kits",
          "Children's Games",
          "Children's Knitting & Textile Design",
          "Children's Puzzles",
          "Chocolate",
          "Christmas",
          "Climbing Frames",
          "Coasters",
          "Collectible Figures & Accessories",
          "Collectible Props & Memorabilia",
          "Coloured Pencils",
          "Colouring Pencils",
          "Colouring Pens & Markers",
          "Confetti",
          "Control Moduls",
          "Correction Pens",
          "Costumes",
          "Cowboys & Indians",
          "Craps Layouts",
          "Crayola",
          "Cup & Ball Games",
          "DVD Games",
          "Darts & Accessories",
          "Desk Supplies Organisers",
          "Dice & Dice Games",
          "Digital Cameras",
          "Dinosaurs",
          "Doll Making",
          "Dolls' House Accessories",
          "Dolls' House Furniture",
          "Dolls' Houses",
          "Dominoes & Tile Games",
          "Drinking Games",
          "Early Learning Centre",
          "Educational Computers & Accessories",
          "Educational Games",
          "Emergency Services",
          "Erasers",
          "Family Games",
          "Farm & Animals",
          "Fashion Dolls",
          "Fashion Dolls & Accessories",
          "Felt Kits",
          "Figures",
          "Finger Puppets",
          "Flat Sheets",
          "Flotation Devices & Accessories",
          "Frame Jigsaws",
          "Friction Cars",
          "Game Sets",
          "Games",
          "Garden Tools",
          "Gardening Trowels",
          "Garlands",
          "Glass Markers & Charms",
          "Glitter",
          "Greenhouses",
          "Guitars & Strings",
          "Hand Pumps",
          "Hand Puppets",
          "Hasbro",
          "Hats",
          "Helicopters & Quadcopters",
          "Hornby",
          "Hot & Cold Therapies",
          "Houses",
          "Ice Cube Moulds & Trays",
          "Invitations",
          "Jigsaw Accessories",
          "Jigsaws",
          "Kids & Toddlers",
          "Kids Remote & App Controlled Toys",
          "Kids'",
          "Kites",
          "Kites & Flight Toys",
          "Knights & Castles",
          "Labels & Stickers",
          "Lamps & Lighting",
          "Landscape Architecture",
          "Landscaping",
          "LeapFrog",
          "LeapPad Learning System",
          "Learning & Activity Toys",
          "Literacy & Spelling",
          "Locomotives",
          "Marvin's Magic",
          "Masks",
          "Mathematics",
          "Memorabilia & Collectibles",
          "Microscopes",
          "Military",
          "Model Building Kits",
          "Model Building Tools",
          "Model Trains & Railway Sets",
          "Motor Road & Rail",
          "Multipack Bars",
          "Mystery Games",
          "Novelty",
          "Novelty Decorations",
          "Nuts & Bolts",
          "Packs & Sets",
          "Paddling Pools",
          "Painting By Numbers",
          "Paper & Stickers",
          "Parts & Accessories",
          "Party Bags",
          "Party Favours",
          "Party Tableware",
          "Pen Refills",
          "Permanent Markers & Marker Pens",
          "Pianos & Keyboards",
          "Pirates",
          "Play Tools",
          "Playsets",
          "Poker Chips",
          "Poker Layouts",
          "Poker Sets",
          "Poker Tables",
          "Poster Paints",
          "Props",
          "Push Power Ride-ons",
          "Pushchair Toys",
          "Race Tracks",
          "Racket Games",
          "Rattles",
          "Ravensburger",
          "Recreational Activities",
          "Road Construction",
          "Robots",
          "Rockers & Ride-ons",
          "Rockets & Spaceships",
          "Rocking Horses",
          "Roulette Sets",
          "Sandwich Spreads, Pates & Pastes",
          "Scaled Models",
          "Science Fiction & Fantasy",
          "Scooters",
          "Service & Tuning Parts",
          "Sets & Kits",
          "Sewing",
          "Shops & Accessories",
          "Signal & Sound",
          "Single Cards",
          "Sleeves",
          "Slot Cars",
          "Slot Cars, Race Tracks & Accessories",
          "Soft Dolls",
          "Sorting, Stacking & Plugging Toys",
          "Sound Toys",
          "Specialty & Decorative Lighting",
          "Spinning Tops",
          "Sport",
          "Starter Packs & Sets",
          "Stationery",
          "Steam Engines",
          "Sticker Collections",
          "Storage Boxes",
          "Strategy Games",
          "Straws",
          "Streamers",
          "Sunglasses",
          "T-Shirts",
          "Tabletop & Miniature Gaming",
          "Take Along Thomas",
          "Tanks",
          "Tape & Supplies",
          "Target Games",
          "Teaching Clocks",
          "Temporary Tattoos",
          "Tomy",
          "Tops & T-Shirts",
          "Toy Cars & Trucks",
          "Toy Trains & Sets",
          "Toy Vehicle Playsets",
          "Toys",
          "Track Construction",
          "Trading Cards & Accessories",
          "Trains",
          "Transformers & Decoders",
          "Transportation & Traffic",
          "Travel & Pocket Games",
          "Trivia & Quiz Games",
          "VTech",
          "Vehicles",
          "WWE",
          "Wagons",
          "Water Pistols",
          "Water Play Tables",
          "Wind & Brass",
          "Window Stickers",
          "Wooden Thomas"
         ],
         "marker": {
          "colors": [
           "#636EFA",
           "#EF553B",
           "#00CC96",
           "#AB63FA",
           "#FFA15A",
           "#19D3F3",
           "#FF6692",
           "#B6E880",
           "#FF97FF",
           "#FECB52"
          ]
         },
         "name": "Subcategories",
         "type": "pie",
         "values": {
          "bdata": "LQDYAAkAAQCpAAMACgAIAAkAAQABAEUAAQABAAIABAAlARYBBwAEAAwAcAEBAAMAAwAPAAMACQASAAMAQQABAAEATgAKAAEADwADAPIAAwAEAFYAAgADADoAAQABAAUAAQABAAQAAQAvABsAAQApAEsABwADAAEADQAiAAEAIgABAAwACwAEACoBAQBSAAEArAAaAAEAVAABAAUAAQBxAAIAAgABACAAAQACAAEALgAbAAEAJgABACEAAQAEABgAAgAiAAEAAQABAAgAAQDxAIkAAgA9AAEAAQACAAEAIAABAJUACAACAAEAAwCNAJQAAgAIAAQAAgACAAEAAQABAFgAAQC8AAIAAgABABUABAABAAEAAgABAAEAAQABAAEAPQFNABMAlACCAAEACAABAAEAAQAEAGgAAQAPAAIAAgAEAAMAAQAJAAEAAgAzAAEABQArAAUACgAKAAIAAgARAAEAAQBDAOUBAQAdADgAAQAsAA0ACgAgAGcAAQCXACUADAABABsACwADAAEACQAGAAEAAQABABAAAQABAAIAAgCPAAEAAQACAIoALAABAFYAcgAHAG8CHAABALAAAQABAAEARQAPAHEDBAAGAB0AEAAHAAMABwA=",
          "dtype": "i2"
         }
        }
       ],
       "layout": {
        "template": {
         "data": {
          "bar": [
           {
            "error_x": {
             "color": "#2a3f5f"
            },
            "error_y": {
             "color": "#2a3f5f"
            },
            "marker": {
             "line": {
              "color": "#E5ECF6",
              "width": 0.5
             },
             "pattern": {
              "fillmode": "overlay",
              "size": 10,
              "solidity": 0.2
             }
            },
            "type": "bar"
           }
          ],
          "barpolar": [
           {
            "marker": {
             "line": {
              "color": "#E5ECF6",
              "width": 0.5
             },
             "pattern": {
              "fillmode": "overlay",
              "size": 10,
              "solidity": 0.2
             }
            },
            "type": "barpolar"
           }
          ],
          "carpet": [
           {
            "aaxis": {
             "endlinecolor": "#2a3f5f",
             "gridcolor": "white",
             "linecolor": "white",
             "minorgridcolor": "white",
             "startlinecolor": "#2a3f5f"
            },
            "baxis": {
             "endlinecolor": "#2a3f5f",
             "gridcolor": "white",
             "linecolor": "white",
             "minorgridcolor": "white",
             "startlinecolor": "#2a3f5f"
            },
            "type": "carpet"
           }
          ],
          "choropleth": [
           {
            "colorbar": {
             "outlinewidth": 0,
             "ticks": ""
            },
            "type": "choropleth"
           }
          ],
          "contour": [
           {
            "colorbar": {
             "outlinewidth": 0,
             "ticks": ""
            },
            "colorscale": [
             [
              0,
              "#0d0887"
             ],
             [
              0.1111111111111111,
              "#46039f"
             ],
             [
              0.2222222222222222,
              "#7201a8"
             ],
             [
              0.3333333333333333,
              "#9c179e"
             ],
             [
              0.4444444444444444,
              "#bd3786"
             ],
             [
              0.5555555555555556,
              "#d8576b"
             ],
             [
              0.6666666666666666,
              "#ed7953"
             ],
             [
              0.7777777777777778,
              "#fb9f3a"
             ],
             [
              0.8888888888888888,
              "#fdca26"
             ],
             [
              1,
              "#f0f921"
             ]
            ],
            "type": "contour"
           }
          ],
          "contourcarpet": [
           {
            "colorbar": {
             "outlinewidth": 0,
             "ticks": ""
            },
            "type": "contourcarpet"
           }
          ],
          "heatmap": [
           {
            "colorbar": {
             "outlinewidth": 0,
             "ticks": ""
            },
            "colorscale": [
             [
              0,
              "#0d0887"
             ],
             [
              0.1111111111111111,
              "#46039f"
             ],
             [
              0.2222222222222222,
              "#7201a8"
             ],
             [
              0.3333333333333333,
              "#9c179e"
             ],
             [
              0.4444444444444444,
              "#bd3786"
             ],
             [
              0.5555555555555556,
              "#d8576b"
             ],
             [
              0.6666666666666666,
              "#ed7953"
             ],
             [
              0.7777777777777778,
              "#fb9f3a"
             ],
             [
              0.8888888888888888,
              "#fdca26"
             ],
             [
              1,
              "#f0f921"
             ]
            ],
            "type": "heatmap"
           }
          ],
          "histogram": [
           {
            "marker": {
             "pattern": {
              "fillmode": "overlay",
              "size": 10,
              "solidity": 0.2
             }
            },
            "type": "histogram"
           }
          ],
          "histogram2d": [
           {
            "colorbar": {
             "outlinewidth": 0,
             "ticks": ""
            },
            "colorscale": [
             [
              0,
              "#0d0887"
             ],
             [
              0.1111111111111111,
              "#46039f"
             ],
             [
              0.2222222222222222,
              "#7201a8"
             ],
             [
              0.3333333333333333,
              "#9c179e"
             ],
             [
              0.4444444444444444,
              "#bd3786"
             ],
             [
              0.5555555555555556,
              "#d8576b"
             ],
             [
              0.6666666666666666,
              "#ed7953"
             ],
             [
              0.7777777777777778,
              "#fb9f3a"
             ],
             [
              0.8888888888888888,
              "#fdca26"
             ],
             [
              1,
              "#f0f921"
             ]
            ],
            "type": "histogram2d"
           }
          ],
          "histogram2dcontour": [
           {
            "colorbar": {
             "outlinewidth": 0,
             "ticks": ""
            },
            "colorscale": [
             [
              0,
              "#0d0887"
             ],
             [
              0.1111111111111111,
              "#46039f"
             ],
             [
              0.2222222222222222,
              "#7201a8"
             ],
             [
              0.3333333333333333,
              "#9c179e"
             ],
             [
              0.4444444444444444,
              "#bd3786"
             ],
             [
              0.5555555555555556,
              "#d8576b"
             ],
             [
              0.6666666666666666,
              "#ed7953"
             ],
             [
              0.7777777777777778,
              "#fb9f3a"
             ],
             [
              0.8888888888888888,
              "#fdca26"
             ],
             [
              1,
              "#f0f921"
             ]
            ],
            "type": "histogram2dcontour"
           }
          ],
          "mesh3d": [
           {
            "colorbar": {
             "outlinewidth": 0,
             "ticks": ""
            },
            "type": "mesh3d"
           }
          ],
          "parcoords": [
           {
            "line": {
             "colorbar": {
              "outlinewidth": 0,
              "ticks": ""
             }
            },
            "type": "parcoords"
           }
          ],
          "pie": [
           {
            "automargin": true,
            "type": "pie"
           }
          ],
          "scatter": [
           {
            "fillpattern": {
             "fillmode": "overlay",
             "size": 10,
             "solidity": 0.2
            },
            "type": "scatter"
           }
          ],
          "scatter3d": [
           {
            "line": {
             "colorbar": {
              "outlinewidth": 0,
              "ticks": ""
             }
            },
            "marker": {
             "colorbar": {
              "outlinewidth": 0,
              "ticks": ""
             }
            },
            "type": "scatter3d"
           }
          ],
          "scattercarpet": [
           {
            "marker": {
             "colorbar": {
              "outlinewidth": 0,
              "ticks": ""
             }
            },
            "type": "scattercarpet"
           }
          ],
          "scattergeo": [
           {
            "marker": {
             "colorbar": {
              "outlinewidth": 0,
              "ticks": ""
             }
            },
            "type": "scattergeo"
           }
          ],
          "scattergl": [
           {
            "marker": {
             "colorbar": {
              "outlinewidth": 0,
              "ticks": ""
             }
            },
            "type": "scattergl"
           }
          ],
          "scattermap": [
           {
            "marker": {
             "colorbar": {
              "outlinewidth": 0,
              "ticks": ""
             }
            },
            "type": "scattermap"
           }
          ],
          "scattermapbox": [
           {
            "marker": {
             "colorbar": {
              "outlinewidth": 0,
              "ticks": ""
             }
            },
            "type": "scattermapbox"
           }
          ],
          "scatterpolar": [
           {
            "marker": {
             "colorbar": {
              "outlinewidth": 0,
              "ticks": ""
             }
            },
            "type": "scatterpolar"
           }
          ],
          "scatterpolargl": [
           {
            "marker": {
             "colorbar": {
              "outlinewidth": 0,
              "ticks": ""
             }
            },
            "type": "scatterpolargl"
           }
          ],
          "scatterternary": [
           {
            "marker": {
             "colorbar": {
              "outlinewidth": 0,
              "ticks": ""
             }
            },
            "type": "scatterternary"
           }
          ],
          "surface": [
           {
            "colorbar": {
             "outlinewidth": 0,
             "ticks": ""
            },
            "colorscale": [
             [
              0,
              "#0d0887"
             ],
             [
              0.1111111111111111,
              "#46039f"
             ],
             [
              0.2222222222222222,
              "#7201a8"
             ],
             [
              0.3333333333333333,
              "#9c179e"
             ],
             [
              0.4444444444444444,
              "#bd3786"
             ],
             [
              0.5555555555555556,
              "#d8576b"
             ],
             [
              0.6666666666666666,
              "#ed7953"
             ],
             [
              0.7777777777777778,
              "#fb9f3a"
             ],
             [
              0.8888888888888888,
              "#fdca26"
             ],
             [
              1,
              "#f0f921"
             ]
            ],
            "type": "surface"
           }
          ],
          "table": [
           {
            "cells": {
             "fill": {
              "color": "#EBF0F8"
             },
             "line": {
              "color": "white"
             }
            },
            "header": {
             "fill": {
              "color": "#C8D4E3"
             },
             "line": {
              "color": "white"
             }
            },
            "type": "table"
           }
          ]
         },
         "layout": {
          "annotationdefaults": {
           "arrowcolor": "#2a3f5f",
           "arrowhead": 0,
           "arrowwidth": 1
          },
          "autotypenumbers": "strict",
          "coloraxis": {
           "colorbar": {
            "outlinewidth": 0,
            "ticks": ""
           }
          },
          "colorscale": {
           "diverging": [
            [
             0,
             "#8e0152"
            ],
            [
             0.1,
             "#c51b7d"
            ],
            [
             0.2,
             "#de77ae"
            ],
            [
             0.3,
             "#f1b6da"
            ],
            [
             0.4,
             "#fde0ef"
            ],
            [
             0.5,
             "#f7f7f7"
            ],
            [
             0.6,
             "#e6f5d0"
            ],
            [
             0.7,
             "#b8e186"
            ],
            [
             0.8,
             "#7fbc41"
            ],
            [
             0.9,
             "#4d9221"
            ],
            [
             1,
             "#276419"
            ]
           ],
           "sequential": [
            [
             0,
             "#0d0887"
            ],
            [
             0.1111111111111111,
             "#46039f"
            ],
            [
             0.2222222222222222,
             "#7201a8"
            ],
            [
             0.3333333333333333,
             "#9c179e"
            ],
            [
             0.4444444444444444,
             "#bd3786"
            ],
            [
             0.5555555555555556,
             "#d8576b"
            ],
            [
             0.6666666666666666,
             "#ed7953"
            ],
            [
             0.7777777777777778,
             "#fb9f3a"
            ],
            [
             0.8888888888888888,
             "#fdca26"
            ],
            [
             1,
             "#f0f921"
            ]
           ],
           "sequentialminus": [
            [
             0,
             "#0d0887"
            ],
            [
             0.1111111111111111,
             "#46039f"
            ],
            [
             0.2222222222222222,
             "#7201a8"
            ],
            [
             0.3333333333333333,
             "#9c179e"
            ],
            [
             0.4444444444444444,
             "#bd3786"
            ],
            [
             0.5555555555555556,
             "#d8576b"
            ],
            [
             0.6666666666666666,
             "#ed7953"
            ],
            [
             0.7777777777777778,
             "#fb9f3a"
            ],
            [
             0.8888888888888888,
             "#fdca26"
            ],
            [
             1,
             "#f0f921"
            ]
           ]
          },
          "colorway": [
           "#636efa",
           "#EF553B",
           "#00cc96",
           "#ab63fa",
           "#FFA15A",
           "#19d3f3",
           "#FF6692",
           "#B6E880",
           "#FF97FF",
           "#FECB52"
          ],
          "font": {
           "color": "#2a3f5f"
          },
          "geo": {
           "bgcolor": "white",
           "lakecolor": "white",
           "landcolor": "#E5ECF6",
           "showlakes": true,
           "showland": true,
           "subunitcolor": "white"
          },
          "hoverlabel": {
           "align": "left"
          },
          "hovermode": "closest",
          "mapbox": {
           "style": "light"
          },
          "paper_bgcolor": "white",
          "plot_bgcolor": "#E5ECF6",
          "polar": {
           "angularaxis": {
            "gridcolor": "white",
            "linecolor": "white",
            "ticks": ""
           },
           "bgcolor": "#E5ECF6",
           "radialaxis": {
            "gridcolor": "white",
            "linecolor": "white",
            "ticks": ""
           }
          },
          "scene": {
           "xaxis": {
            "backgroundcolor": "#E5ECF6",
            "gridcolor": "white",
            "gridwidth": 2,
            "linecolor": "white",
            "showbackground": true,
            "ticks": "",
            "zerolinecolor": "white"
           },
           "yaxis": {
            "backgroundcolor": "#E5ECF6",
            "gridcolor": "white",
            "gridwidth": 2,
            "linecolor": "white",
            "showbackground": true,
            "ticks": "",
            "zerolinecolor": "white"
           },
           "zaxis": {
            "backgroundcolor": "#E5ECF6",
            "gridcolor": "white",
            "gridwidth": 2,
            "linecolor": "white",
            "showbackground": true,
            "ticks": "",
            "zerolinecolor": "white"
           }
          },
          "shapedefaults": {
           "line": {
            "color": "#2a3f5f"
           }
          },
          "ternary": {
           "aaxis": {
            "gridcolor": "white",
            "linecolor": "white",
            "ticks": ""
           },
           "baxis": {
            "gridcolor": "white",
            "linecolor": "white",
            "ticks": ""
           },
           "bgcolor": "#E5ECF6",
           "caxis": {
            "gridcolor": "white",
            "linecolor": "white",
            "ticks": ""
           }
          },
          "title": {
           "x": 0.05
          },
          "xaxis": {
           "automargin": true,
           "gridcolor": "white",
           "linecolor": "white",
           "ticks": "",
           "title": {
            "standoff": 15
           },
           "zerolinecolor": "white",
           "zerolinewidth": 2
          },
          "yaxis": {
           "automargin": true,
           "gridcolor": "white",
           "linecolor": "white",
           "ticks": "",
           "title": {
            "standoff": 15
           },
           "zerolinecolor": "white",
           "zerolinewidth": 2
          }
         }
        },
        "title": {
         "text": "Subcategory Distribution",
         "x": 0.5,
         "y": 0.9
        }
       }
      },
      "image/png": "[encoded data removed]"
     },
     "metadata": {},
     "output_type": "display_data"
    }
   ],
   "source": [
    "import pandas as pd\n",
    "import plotly.graph_objects as go\n",
    "import plotly.express as px\n",
    "\n",
    "df_user = pd.read_csv(\"amazon_cat_subcat_processed.csv\")\n",
    "\n",
    "\n",
    "df_category = df_user.groupby('category')['unique_id'].count().reset_index()\n",
    "df_category = df_category.rename(columns={'unique_id': 'Value'})\n",
    "df_subcategory = df_user.groupby('subcategory')['unique_id'].count().reset_index()\n",
    "df_subcategory = df_subcategory.rename(columns={'unique_id': 'Value'})\n",
    "\n",
    "\n",
    "colors = px.colors.qualitative.Plotly\n",
    "category_colors = colors[:len(df_category)]\n",
    "subcategory_colors = colors[:len(df_subcategory)]\n",
    "\n",
    "\n",
    "fig_category = go.Figure(go.Pie(\n",
    "    labels=df_category['category'],\n",
    "    values=df_category['Value'],\n",
    "    name=\"Categories\",\n",
    "    hole=0.4,\n",
    "    marker_colors=category_colors,\n",
    "    hovertemplate=\"Category: %{label}<br>Value: %{value}<extra></extra>\",\n",
    "    domain=dict(x=[0, 1], y=[0, 1])\n",
    "))\n",
    "fig_category.update_layout(\n",
    "    title_text='Category Distribution',\n",
    "    title_x=0.5,\n",
    "    title_y=0.9\n",
    ")\n",
    "fig_category.write_html('category_pie_chart.html')\n",
    "\n",
    "\n",
    "fig_subcategory = go.Figure(go.Pie(\n",
    "    labels=df_subcategory['subcategory'],\n",
    "    values=df_subcategory['Value'],\n",
    "    name=\"Subcategories\",\n",
    "    hole=0.4,\n",
    "    marker_colors=subcategory_colors,\n",
    "    hovertemplate=\"Subcategory: %{label}<br>Value: %{value}<extra></extra>\",\n",
    "    domain=dict(x=[0, 1], y=[0, 1])\n",
    "))\n",
    "fig_subcategory.update_layout(\n",
    "    title_text='Subcategory Distribution',\n",
    "    title_x=0.5,\n",
    "    title_y=0.9\n",
    ")\n",
    "fig_subcategory.write_html('subcategory_pie_chart.html')\n",
    "\n",
    "fig_category.show()\n",
    "fig_subcategory.show()"
   ]
  }
 ],
 "metadata": {
  "kernelspec": {
   "display_name": "Python 3 (ipykernel)",
   "language": "python",
   "name": "python3"
  },
  "language_info": {
   "codemirror_mode": {
    "name": "ipython",
    "version": 3
   },
   "file_extension": ".py",
   "mimetype": "text/x-python",
   "name": "python",
   "nbconvert_exporter": "python",
   "pygments_lexer": "ipython3",
   "version": "3.13.5"
  }
 },
 "nbformat": 4,
 "nbformat_minor": 5
}
